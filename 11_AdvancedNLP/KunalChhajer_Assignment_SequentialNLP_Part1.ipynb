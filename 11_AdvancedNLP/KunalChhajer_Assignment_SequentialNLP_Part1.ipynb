{
 "cells": [
  {
   "cell_type": "markdown",
   "metadata": {},
   "source": [
    "## Importing Libraries"
   ]
  },
  {
   "cell_type": "code",
   "execution_count": 1,
   "metadata": {},
   "outputs": [],
   "source": [
    "import pandas as pd, numpy as np, matplotlib.pyplot as plt, seaborn as sns\n",
    "import tensorflow as tf\n",
    "\n",
    "from itertools import islice\n",
    "\n",
    "# Keras\n",
    "from tensorflow.keras.layers import Dense, Embedding, LSTM, Dropout, MaxPooling1D, Conv1D\n",
    "from tensorflow.keras.preprocessing.sequence import pad_sequences\n",
    "from tensorflow.keras.models import Model, Sequential\n",
    "from tensorflow.keras.preprocessing import sequence\n",
    "from tensorflow.keras.datasets import imdb\n",
    "\n",
    "from tensorflow.keras.callbacks import ModelCheckpoint, EarlyStopping\n",
    "\n",
    "from sklearn.model_selection import train_test_split\n",
    "from sklearn.metrics import classification_report\n",
    "\n",
    "# Suppress warnings\n",
    "import warnings; warnings.filterwarnings('ignore')\n",
    "import matplotlib.style as style;\n",
    "\n",
    "random_state = 42\n",
    "np.random.seed(random_state)\n",
    "tf.random.set_seed(random_state)"
   ]
  },
  {
   "cell_type": "markdown",
   "metadata": {},
   "source": [
    "## Loading Dataset and splitting into Train, Validation and Test"
   ]
  },
  {
   "cell_type": "code",
   "execution_count": 2,
   "metadata": {},
   "outputs": [],
   "source": [
    "vocab_size = 10000\n",
    "maxlen = 300\n",
    "(x_train, y_train), (x_test, y_test) = imdb.load_data(num_words = vocab_size)\n",
    "\n",
    "x_train = pad_sequences(x_train, maxlen = maxlen, padding = 'pre')\n",
    "x_test =  pad_sequences(x_test, maxlen = maxlen, padding = 'pre')\n",
    "\n",
    "X = np.concatenate((x_train, x_test), axis = 0)\n",
    "y = np.concatenate((y_train, y_test), axis = 0)\n",
    "\n",
    "x_train, x_test, y_train, y_test = train_test_split(X, y, test_size = 0.2, random_state = random_state, shuffle = True)\n",
    "x_train, x_valid, y_train, y_valid = train_test_split(x_train, y_train, test_size = 0.2, random_state = random_state, shuffle = True)"
   ]
  },
  {
   "cell_type": "markdown",
   "metadata": {},
   "source": [
    "## Shape of features and labels "
   ]
  },
  {
   "cell_type": "code",
   "execution_count": 3,
   "metadata": {},
   "outputs": [
    {
     "name": "stdout",
     "output_type": "stream",
     "text": [
      "\n",
      "Shape of training dataset: (32000, 300)\n",
      "Unique words in training dataset: 9999\n",
      "=============================================\n",
      "\n",
      "Shape of validation dataset: (8000, 300)\n",
      "Unique words in validation dataset: 9984\n",
      "=============================================\n",
      "\n",
      "Shape of test dataset: (10000, 300)\n",
      "Number of unique words in test dataset: 9995\n",
      "=============================================\n",
      "\n",
      "Unique Categories: (array([0, 1], dtype=int64), array([0, 1], dtype=int64), array([0, 1], dtype=int64))\n"
     ]
    }
   ],
   "source": [
    "print(f'\\nShape of training dataset: {x_train.shape}')\n",
    "print(f'Unique words in training dataset: {len(np.unique(np.hstack(x_train)))}')\n",
    "\n",
    "print('==='*15)\n",
    "print(f'\\nShape of validation dataset: {x_valid.shape}')\n",
    "print(f'Unique words in validation dataset: {len(np.unique(np.hstack(x_valid)))}')\n",
    "\n",
    "print('==='*15)\n",
    "print(f'\\nShape of test dataset: {x_test.shape}')\n",
    "print(f'Number of unique words in test dataset: {len(np.unique(np.hstack(x_test)))}')\n",
    "\n",
    "print('==='*15)\n",
    "print(f'\\nUnique Categories: {np.unique(y_train), np.unique(y_valid), np.unique(y_test)}')"
   ]
  },
  {
   "cell_type": "markdown",
   "metadata": {},
   "source": [
    "## Value of any one feature and its label"
   ]
  },
  {
   "cell_type": "code",
   "execution_count": 4,
   "metadata": {},
   "outputs": [
    {
     "name": "stdout",
     "output_type": "stream",
     "text": [
      "Data on 1st Index:\n",
      "[   0    0    0    0    0    0    0    0    0    0    0    0    0    0\n",
      "    0    0    0    0    0    0    0    0    0    0    0    0    0    0\n",
      "    0    0    0    0    0    0    0    0    0    0    0    0    0    0\n",
      "    0    0    0    0    0    0    0    0    0    0    0    0    0    0\n",
      "    0    0    0    0    0    0    0    0    0    0    0    0    0    0\n",
      "    0    1    4   64  614   96    8  358   14  509    9    8 4040  129\n",
      "  419  429    4 1513 1741   49 6177    2    7    4 1224  387    6  762\n",
      "    7  129 1224 7851  783    5  280   25   26 8394 2985 3000  382   95\n",
      "   25  238  358   14   22   10   10    4   64 1907 1698   16    4   65\n",
      "  200    2    5 6958 7767   16  321   11    4  217    7    4 7212 2658\n",
      "    5   38   16    4 8145  250  382   48   36   62   28 1075    4  226\n",
      "   20   23   68    2   11 2853    5   89   36  853  809   11  119   62\n",
      "   28   93   12    6   76   53  737   22   10   10    4   64  282   13\n",
      "  520   12    6  342  675    9   88    7    2    5   27 1256   17   35\n",
      "  284   54   12  266    8  212   10   10    2    2    5 6301 4029   71\n",
      " 1053 9056  935    4  136   33    2    7    4  796 3617   16   43   99\n",
      "   76    8    2  112   35 1966    2   11    4 1208  790 1502  182 6301\n",
      " 4029   62   28  188  309  324   76  159   29   60 3820    4 1749 3026\n",
      "    8    2   27  283  119   21   95  174    4  213    7    4   20   16\n",
      "    8 8861 2091 8730 5681    5 1402   35 8585   23    4  393    7    4\n",
      "  831  311   10   10  106   12   33  129  205 7623   33  222   13  124\n",
      "   13   28   77    2   18  113]\n",
      "============================================================\n",
      "Label:\n",
      "0\n"
     ]
    }
   ],
   "source": [
    "print('Data on 1st Index:')\n",
    "print(x_train[0])\n",
    "print('==='*20)\n",
    "print('Label:')\n",
    "print(y_train[0])"
   ]
  },
  {
   "cell_type": "markdown",
   "metadata": {},
   "source": [
    "## Get original sentence by decoding the feature value"
   ]
  },
  {
   "cell_type": "code",
   "execution_count": 5,
   "metadata": {},
   "outputs": [
    {
     "name": "stdout",
     "output_type": "stream",
     "text": [
      "Review: <PAD> <PAD> <PAD> <PAD> <PAD> <PAD> <PAD> <PAD> <PAD> <PAD> <PAD> <PAD> <PAD> <PAD> <PAD> <PAD> <PAD> <PAD> <PAD> <PAD> <PAD> <PAD> <PAD> <PAD> <PAD> <PAD> <PAD> <PAD> <PAD> <PAD> <PAD> <PAD> <PAD> <PAD> <PAD> <PAD> <PAD> <PAD> <PAD> <PAD> <PAD> <PAD> <PAD> <PAD> <PAD> <PAD> <PAD> <PAD> <PAD> <PAD> <PAD> <PAD> <PAD> <PAD> <PAD> <PAD> <PAD> <PAD> <PAD> <PAD> <PAD> <PAD> <PAD> <PAD> <PAD> <PAD> <PAD> <PAD> <PAD> <PAD> <PAD> <PAD> <PAD> <PAD> <PAD> <PAD> <PAD> <START> rock <UNK> roll high school will probably have to go down in history as the ultimate rebellious party flick portraying a bunch of high school students using the <UNK> music as inspiration to rise up against their <UNK> principal mary <UNK> of eating <UNK> fame the whole movie is a mile a minute it's basically a big excuse to have fun and i'm sure that you will <UNK> <UNK> check a <UNK> music teacher paul <UNK> also from eating <UNK> check exploding mice <UNK> br br anyway this is the sort of stuff that makes life worth living even for someone like me who doesn't know the <UNK> music it's pure pleasure with roger corman executive producing and joe <UNK> co directing how could we expect anything less too bad that director allan <UNK> later <UNK> into fare such as <UNK> ii br br also starring p j soles vincent van <UNK> clint howard <UNK> young dick miller who has appeared in every one of joe <UNK> movies and many of roger <UNK> don steele and of course the ramones a real treat br br it seems like <UNK> and <UNK> always co starred they also co starred in joe <UNK> hollywood <UNK> and the slasher flick <UNK> mall also starring dick miller in which they <UNK> their roles from eating <UNK>\n",
      "============================================================\n",
      "Actual Sentiment: 1\n",
      "=============================================\n",
      "[(34704, 'fawn'), (52009, 'tsukino'), (52010, 'nunnery'), (16819, 'sonja'), (63954, 'vani'), (1411, 'woods'), (16118, 'spiders'), (2348, 'hanging'), (2292, 'woody'), (52011, 'trawling'), (52012, \"hold's\"), (11310, 'comically'), (40833, 'localized'), (30571, 'disobeying'), (52013, \"'royale\"), (40834, \"harpo's\"), (52014, 'canet'), (19316, 'aileen'), (52015, 'acurately'), (52016, \"diplomat's\"), (25245, 'rickman'), (6749, 'arranged'), (52017, 'rumbustious'), (52018, 'familiarness'), (52019, \"spider'\"), (68807, 'hahahah'), (52020, \"wood'\"), (40836, 'transvestism'), (34705, \"hangin'\"), (2341, 'bringing'), (40837, 'seamier'), (34706, 'wooded'), (52021, 'bravora'), (16820, 'grueling'), (1639, 'wooden'), (16821, 'wednesday'), (52022, \"'prix\"), (34707, 'altagracia'), (52023, 'circuitry'), (11588, 'crotch'), (57769, 'busybody'), (52024, \"tart'n'tangy\"), (14132, 'burgade'), (52026, 'thrace'), (11041, \"tom's\"), (52028, 'snuggles'), (29117, 'francesco'), (52030, 'complainers'), (52128, 'templarios'), (40838, '272'), (52031, '273'), (52133, 'zaniacs'), (34709, '275'), (27634, 'consenting'), (40839, 'snuggled'), (15495, 'inanimate'), (52033, 'uality'), (11929, 'bronte'), (4013, 'errors'), (3233, 'dialogs'), (52034, \"yomada's\"), (34710, \"madman's\"), (30588, 'dialoge'), (52036, 'usenet'), (40840, 'videodrome'), (26341, \"kid'\"), (52037, 'pawed'), (30572, \"'girlfriend'\"), (52038, \"'pleasure\"), (52039, \"'reloaded'\"), (40842, \"kazakos'\"), (52040, 'rocque'), (52041, 'mailings'), (11930, 'brainwashed'), (16822, 'mcanally'), (52042, \"tom''\"), (25246, 'kurupt'), (21908, 'affiliated'), (52043, 'babaganoosh'), (40843, \"noe's\"), (40844, 'quart'), (362, 'kids'), (5037, 'uplifting'), (7096, 'controversy'), (21909, 'kida'), (23382, 'kidd'), (52044, \"error'\"), (52045, 'neurologist'), (18513, 'spotty'), (30573, 'cobblers'), (9881, 'projection'), (40845, 'fastforwarding'), (52046, 'sters'), (52047, \"eggar's\"), (52048, 'etherything'), (40846, 'gateshead'), (34711, 'airball'), (25247, 'unsinkable'), (7183, 'stern'), (52049, \"cervi's\")]\n"
     ]
    }
   ],
   "source": [
    "def decode_review(x, y):\n",
    "  w2i = imdb.get_word_index()                                \n",
    "  w2i = {k:(v + 3) for k, v in w2i.items()}\n",
    "  w2i['<PAD>'] = 0\n",
    "  w2i['<START>'] = 1\n",
    "  w2i['<UNK>'] = 2\n",
    "  i2w = {i: w for w, i in w2i.items()}\n",
    "\n",
    "  ws = (' '.join(i2w[i] for i in x))\n",
    "  print(f'Review: {ws}')\n",
    "  print(f'===='*15)\n",
    "  print(f'Actual Sentiment: {y}')\n",
    "  return w2i, i2w\n",
    "\n",
    "w2i, i2w = decode_review(x_train[1], y_train[1])\n",
    "\n",
    "# get first 100 (key, value) pairs from id to word dictionary\n",
    "print('==='*15)\n",
    "print(list(islice(i2w.items(), 0, 100)))"
   ]
  },
  {
   "cell_type": "markdown",
   "metadata": {},
   "source": [
    "## Design, Train, Test and Tune a sequential model"
   ]
  },
  {
   "cell_type": "code",
   "execution_count": 6,
   "metadata": {},
   "outputs": [
    {
     "name": "stdout",
     "output_type": "stream",
     "text": [
      "Model: \"sequential\"\n",
      "_________________________________________________________________\n",
      "Layer (type)                 Output Shape              Param #   \n",
      "=================================================================\n",
      "embedding (Embedding)        (None, 300, 256)          2560000   \n",
      "_________________________________________________________________\n",
      "dropout (Dropout)            (None, 300, 256)          0         \n",
      "_________________________________________________________________\n",
      "conv1d (Conv1D)              (None, 300, 256)          327936    \n",
      "_________________________________________________________________\n",
      "conv1d_1 (Conv1D)            (None, 300, 128)          163968    \n",
      "_________________________________________________________________\n",
      "max_pooling1d (MaxPooling1D) (None, 150, 128)          0         \n",
      "_________________________________________________________________\n",
      "conv1d_2 (Conv1D)            (None, 150, 64)           41024     \n",
      "_________________________________________________________________\n",
      "max_pooling1d_1 (MaxPooling1 (None, 75, 64)            0         \n",
      "_________________________________________________________________\n",
      "lstm (LSTM)                  (None, 75)                42000     \n",
      "_________________________________________________________________\n",
      "dense (Dense)                (None, 1)                 76        \n",
      "=================================================================\n",
      "Total params: 3,135,004\n",
      "Trainable params: 3,135,004\n",
      "Non-trainable params: 0\n",
      "_________________________________________________________________\n",
      "None\n"
     ]
    }
   ],
   "source": [
    "# Model\n",
    "model = Sequential()\n",
    "model.add(Embedding(vocab_size, 256, input_length = maxlen))\n",
    "model.add(Dropout(0.25))\n",
    "model.add(Conv1D(256, 5, padding = 'same', activation = 'relu', strides = 1))\n",
    "model.add(Conv1D(128, 5, padding = 'same', activation = 'relu', strides = 1))\n",
    "model.add(MaxPooling1D(pool_size = 2))\n",
    "model.add(Conv1D(64, 5, padding = 'same', activation = 'relu', strides = 1))\n",
    "model.add(MaxPooling1D(pool_size = 2))\n",
    "model.add(LSTM(75))\n",
    "model.add(Dense(1, activation = 'sigmoid'))\n",
    "model.compile(loss = 'binary_crossentropy', optimizer = 'adam', metrics = ['accuracy'])\n",
    "print(model.summary())"
   ]
  },
  {
   "cell_type": "code",
   "execution_count": 7,
   "metadata": {},
   "outputs": [],
   "source": [
    "# Adding callbacks\n",
    "es = EarlyStopping(monitor = 'val_loss', mode = 'min', verbose = 1, patience = 1)  \n",
    "mc = ModelCheckpoint('imdb_model.h5', monitor = 'val_loss', mode = 'min', save_best_only = True, verbose = 1)"
   ]
  },
  {
   "cell_type": "code",
   "execution_count": 8,
   "metadata": {},
   "outputs": [
    {
     "name": "stdout",
     "output_type": "stream",
     "text": [
      "Epoch 1/2\n",
      "500/500 [==============================] - 305s 606ms/step - loss: 0.4581 - accuracy: 0.7440 - val_loss: 0.2507 - val_accuracy: 0.8965\n",
      "\n",
      "Epoch 00001: val_loss improved from inf to 0.25066, saving model to imdb_model.h5\n",
      "Epoch 2/2\n",
      "500/500 [==============================] - 307s 615ms/step - loss: 0.1708 - accuracy: 0.9361 - val_loss: 0.2574 - val_accuracy: 0.8926\n",
      "\n",
      "Epoch 00002: val_loss did not improve from 0.25066\n",
      "Epoch 00002: early stopping\n",
      "157/157 [==============================] - 21s 132ms/step - loss: 0.2539 - accuracy: 0.8963\n",
      "Test accuracy: 89.63%\n"
     ]
    }
   ],
   "source": [
    "# Fit the model\n",
    "model.fit(x_train, y_train, validation_data = (x_valid, y_valid), epochs = 2, batch_size = 64, verbose = True, callbacks = [es, mc])\n",
    "\n",
    "# Evaluate the model\n",
    "scores = model.evaluate(x_test, y_test, batch_size = 64)\n",
    "print('Test accuracy: %.2f%%' % (scores[1]*100))"
   ]
  },
  {
   "cell_type": "markdown",
   "metadata": {},
   "source": [
    "## Classification Report"
   ]
  },
  {
   "cell_type": "code",
   "execution_count": 9,
   "metadata": {},
   "outputs": [
    {
     "name": "stdout",
     "output_type": "stream",
     "text": [
      "Classification report: \n",
      "              precision    recall  f1-score   support\n",
      "\n",
      "    Positive       0.86      0.94      0.90      4912\n",
      "    Negative       0.93      0.86      0.89      5088\n",
      "\n",
      "    accuracy                           0.90     10000\n",
      "   macro avg       0.90      0.90      0.90     10000\n",
      "weighted avg       0.90      0.90      0.90     10000\n",
      "\n"
     ]
    }
   ],
   "source": [
    "from sklearn import metrics\n",
    "\n",
    "y_pred = model.predict_classes(x_test)\n",
    "\n",
    "print('Classification report: ')\n",
    "display_label = [\"Positive\", \"Negative\"]\n",
    "print(classification_report(y_test,y_pred, target_names=display_label))"
   ]
  },
  {
   "cell_type": "markdown",
   "metadata": {},
   "source": [
    "## Confusion Matrix"
   ]
  },
  {
   "cell_type": "code",
   "execution_count": 10,
   "metadata": {},
   "outputs": [
    {
     "data": {
      "image/png": "[encoded data removed]",
      "text/plain": [
       "<Figure size 396x288 with 2 Axes>"
      ]
     },
     "metadata": {
      "needs_background": "light"
     },
     "output_type": "display_data"
    }
   ],
   "source": [
    "lab = [1,0]\n",
    "cm = metrics.confusion_matrix(y_test, y_pred, labels=lab)\n",
    "plab=[f\"Pred - {s}\" for s in display_label]\n",
    "df_cm = pd.DataFrame(cm, index = display_label, columns = plab)   \n",
    "plt.figure(figsize = (5.5,4))\n",
    "style.use('fivethirtyeight')\n",
    "sns.heatmap(df_cm, annot=True, fmt='g') \n",
    "plt.title(f'\\nConfusion Matrix')\n",
    "plt.show()"
   ]
  },
  {
   "cell_type": "markdown",
   "metadata": {},
   "source": [
    "## Print the prediction on one sample.\n"
   ]
  },
  {
   "cell_type": "code",
   "execution_count": 11,
   "metadata": {},
   "outputs": [
    {
     "name": "stdout",
     "output_type": "stream",
     "text": [
      "Review: <PAD> <PAD> <PAD> <PAD> <PAD> <PAD> <PAD> <PAD> <PAD> <PAD> <PAD> <PAD> <PAD> <PAD> <PAD> <PAD> <PAD> <PAD> <PAD> <PAD> <PAD> <PAD> <PAD> <PAD> <PAD> <PAD> <PAD> <PAD> <PAD> <PAD> <PAD> <PAD> <PAD> <PAD> <PAD> <PAD> <PAD> <PAD> <PAD> <PAD> <PAD> <PAD> <PAD> <PAD> <PAD> <PAD> <PAD> <PAD> <PAD> <PAD> <PAD> <PAD> <PAD> <PAD> <PAD> <PAD> <PAD> <PAD> <PAD> <PAD> <PAD> <PAD> <PAD> <PAD> <PAD> <PAD> <PAD> <PAD> <PAD> <PAD> <START> overall this movie is dreadful and should have never been made one of the problems with this movie is that there is no link to the audience and the characters for example if she is about to be attacked you want to feel oh my god no but you don't in this case you don't care because there is no link that has been made to know the character in the trailer it seemed as though the movie would be great yet there is no suspense what so ever really there could have been maybe some mystery but there is not all she has is a <UNK> was said on the dvd's back you would think that it was carefully planned this movie and cleverly made but it is not the ending was just awful very straight forward and pointless too the acting is either average or below average maybe even lower in my opinion it was a waste of an hour of my life the special effects and sets were average too nothing special what so ever there is not much gore or bloody violence not much blood is shown this movie was advertised to make it sound quite amazing yet really its not even worth looking for i do not recommend this to anyone unless they are easily satisfied by a few fights and a boring story\n",
      "============================================================\n",
      "Actual Sentiment: 0\n",
      "============================================================\n",
      "Predicted sentiment: 0\n"
     ]
    }
   ],
   "source": [
    "decode_review(x_test[1], y_test[1])\n",
    "print(f'===='*15)\n",
    "print(f'Predicted sentiment: {y_pred[1][0]}')"
   ]
  },
  {
   "cell_type": "markdown",
   "metadata": {},
   "source": [
    "## Conclusion\n",
    "Classification model analysing customer's sentiments has been created with following result summary:<br>\n",
    "Sequential model with CNN and LSTM.<br>\n",
    "Accuracy: 89.63%<br>\n",
    "F1-score: 90%<br>\n",
    "Loss of 0.26<br>"
   ]
  },
  {
   "cell_type": "code",
   "execution_count": null,
   "metadata": {},
   "outputs": [],
   "source": []
  }
 ],
 "metadata": {
  "kernelspec": {
   "display_name": "Python 3 (ipykernel)",
   "language": "python",
   "name": "python3"
  },
  "language_info": {
   "codemirror_mode": {
    "name": "ipython",
    "version": 3
   },
   "file_extension": ".py",
   "mimetype": "text/x-python",
   "name": "python",
   "nbconvert_exporter": "python",
   "pygments_lexer": "ipython3",
   "version": "3.7.3"
  }
 },
 "nbformat": 4,
 "nbformat_minor": 4
}
