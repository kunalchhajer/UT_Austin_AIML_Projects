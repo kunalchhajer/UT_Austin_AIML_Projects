{
 "cells": [
  {
   "cell_type": "markdown",
   "metadata": {
    "id": "FtR-aEnTjGuh"
   },
   "source": [
    "## Importing the Libraries"
   ]
  },
  {
   "cell_type": "code",
   "execution_count": null,
   "metadata": {
    "colab": {
     "base_uri": "https://localhost:8080/"
    },
    "id": "xv2d_nYMjGul",
    "outputId": "1d5e9d42-180b-4f07-f8f2-b36315c57530"
   },
   "outputs": [
    {
     "name": "stdout",
     "output_type": "stream",
     "text": [
      "[nltk_data] Downloading package stopwords to /root/nltk_data...\n",
      "[nltk_data]   Unzipping corpora/stopwords.zip.\n"
     ]
    }
   ],
   "source": [
    "import gc\n",
    "gc.enable\n",
    "\n",
    "import os\n",
    "import pandas as pd\n",
    "\n",
    "pd.options.mode.chained_assignment = None\n",
    "import numpy as np\n",
    "import re\n",
    "import nltk\n",
    "nltk.download('stopwords')\n",
    "import spacy\n",
    "import string\n",
    "import seaborn as sns\n",
    "from nltk.stem.snowball import SnowballStemmer\n",
    "# from matplotlib import pyplot as plt\n",
    "# %matplotlib inline \n",
    "\n",
    "sns.set(rc={'figure.figsize':(15, 16)})"
   ]
  },
  {
   "cell_type": "markdown",
   "metadata": {
    "id": "DdjfqlUJjGun"
   },
   "source": [
    "## Loading the dataset"
   ]
  },
  {
   "cell_type": "code",
   "execution_count": null,
   "metadata": {
    "colab": {
     "base_uri": "https://localhost:8080/"
    },
    "id": "fRsSnSgypFwA",
    "outputId": "c817f5c0-ff34-4c5b-efc0-45a9915f06ef"
   },
   "outputs": [
    {
     "name": "stdout",
     "output_type": "stream",
     "text": [
      "Mounted at /content/drive/\n"
     ]
    }
   ],
   "source": [
    "from google.colab import drive\n",
    "drive.mount('/content/drive/',force_remount=True)"
   ]
  },
  {
   "cell_type": "code",
   "execution_count": null,
   "metadata": {
    "colab": {
     "base_uri": "https://localhost:8080/",
     "height": 35
    },
    "id": "cRebjD1zp_hF",
    "outputId": "a0b13a17-70fe-4875-f25a-e0d6f22132d6"
   },
   "outputs": [
    {
     "data": {
      "application/vnd.google.colaboratory.intrinsic+json": {
       "type": "string"
      },
      "text/plain": [
       "'/content/drive/MyDrive'"
      ]
     },
     "execution_count": 3,
     "metadata": {},
     "output_type": "execute_result"
    }
   ],
   "source": [
    "project_path = r\"/content/drive/MyDrive/\"\n",
    "os.chdir(project_path)\n",
    "os.getcwd()"
   ]
  },
  {
   "cell_type": "code",
   "execution_count": null,
   "metadata": {
    "colab": {
     "base_uri": "https://localhost:8080/"
    },
    "id": "0VsQHpLzjGun",
    "outputId": "61f70379-2ab5-4518-afc2-41d23fcfc540"
   },
   "outputs": [
    {
     "data": {
      "text/plain": [
       "(681284, 7)"
      ]
     },
     "execution_count": 4,
     "metadata": {},
     "output_type": "execute_result"
    }
   ],
   "source": [
    "data_original = pd.read_csv('blogtext.csv', index_col=False)\n",
    "data_original.shape"
   ]
  },
  {
   "cell_type": "code",
   "execution_count": null,
   "metadata": {
    "id": "moc-Iyj7jGuo"
   },
   "outputs": [],
   "source": [
    "# droping id and date columns\n",
    "data_original.drop(labels=['id','date'], axis=1,inplace=True)\n",
    "\n",
    "# the next step is to randomize the rows of the data\n",
    "data_original = data_original.sample(frac=1).reset_index(drop=True)"
   ]
  },
  {
   "cell_type": "markdown",
   "metadata": {
    "id": "37aJOgrwuMiT"
   },
   "source": [
    "## Exploratory Analysis"
   ]
  },
  {
   "cell_type": "code",
   "execution_count": null,
   "metadata": {
    "colab": {
     "base_uri": "https://localhost:8080/"
    },
    "id": "nggXWqNbjGuo",
    "outputId": "8c6ba8b1-4578-46a1-cd88-491ad41bb82b"
   },
   "outputs": [
    {
     "name": "stdout",
     "output_type": "stream",
     "text": [
      "<class 'pandas.core.frame.DataFrame'>\n",
      "RangeIndex: 681284 entries, 0 to 681283\n",
      "Data columns (total 5 columns):\n",
      " #   Column  Non-Null Count   Dtype \n",
      "---  ------  --------------   ----- \n",
      " 0   gender  681284 non-null  object\n",
      " 1   age     681284 non-null  int64 \n",
      " 2   topic   681284 non-null  object\n",
      " 3   sign    681284 non-null  object\n",
      " 4   text    681284 non-null  object\n",
      "dtypes: int64(1), object(4)\n",
      "memory usage: 26.0+ MB\n"
     ]
    }
   ],
   "source": [
    "data_original.info()"
   ]
  },
  {
   "cell_type": "code",
   "execution_count": null,
   "metadata": {
    "colab": {
     "base_uri": "https://localhost:8080/",
     "height": 200
    },
    "id": "bcruMZ7juRyX",
    "outputId": "4784ca50-2d11-4223-c397-aaa4ba7c96e4"
   },
   "outputs": [
    {
     "data": {
      "text/html": [
       "\n",
       "  <div id=\"df-d65ec5e4-9f48-4ccf-8a00-58a23c385a09\">\n",
       "    <div class=\"colab-df-container\">\n",
       "      <div>\n",
       "<style scoped>\n",
       "    .dataframe tbody tr th:only-of-type {\n",
       "        vertical-align: middle;\n",
       "    }\n",
       "\n",
       "    .dataframe tbody tr th {\n",
       "        vertical-align: top;\n",
       "    }\n",
       "\n",
       "    .dataframe thead th {\n",
       "        text-align: right;\n",
       "    }\n",
       "</style>\n",
       "<table border=\"1\" class=\"dataframe\">\n",
       "  <thead>\n",
       "    <tr style=\"text-align: right;\">\n",
       "      <th></th>\n",
       "      <th>gender</th>\n",
       "      <th>age</th>\n",
       "      <th>topic</th>\n",
       "      <th>sign</th>\n",
       "      <th>text</th>\n",
       "    </tr>\n",
       "  </thead>\n",
       "  <tbody>\n",
       "    <tr>\n",
       "      <th>76369</th>\n",
       "      <td>male</td>\n",
       "      <td>37</td>\n",
       "      <td>indUnk</td>\n",
       "      <td>Leo</td>\n",
       "      <td>First of all... if you're the guy with ...</td>\n",
       "    </tr>\n",
       "    <tr>\n",
       "      <th>456865</th>\n",
       "      <td>male</td>\n",
       "      <td>23</td>\n",
       "      <td>indUnk</td>\n",
       "      <td>Sagittarius</td>\n",
       "      <td>Sigma Corporation is pleased to ann...</td>\n",
       "    </tr>\n",
       "    <tr>\n",
       "      <th>237749</th>\n",
       "      <td>male</td>\n",
       "      <td>15</td>\n",
       "      <td>indUnk</td>\n",
       "      <td>Scorpio</td>\n",
       "      <td>todae must sae lots of sorry.... first...</td>\n",
       "    </tr>\n",
       "    <tr>\n",
       "      <th>101803</th>\n",
       "      <td>male</td>\n",
       "      <td>35</td>\n",
       "      <td>Technology</td>\n",
       "      <td>Aries</td>\n",
       "      <td>had a great time at the dinner part...</td>\n",
       "    </tr>\n",
       "    <tr>\n",
       "      <th>615298</th>\n",
       "      <td>male</td>\n",
       "      <td>39</td>\n",
       "      <td>Technology</td>\n",
       "      <td>Scorpio</td>\n",
       "      <td>Logged into XBox Live (XBL) and saw tha...</td>\n",
       "    </tr>\n",
       "  </tbody>\n",
       "</table>\n",
       "</div>\n",
       "      <button class=\"colab-df-convert\" onclick=\"convertToInteractive('df-d65ec5e4-9f48-4ccf-8a00-58a23c385a09')\"\n",
       "              title=\"Convert this dataframe to an interactive table.\"\n",
       "              style=\"display:none;\">\n",
       "        \n",
       "  <svg xmlns=\"http://www.w3.org/2000/svg\" height=\"24px\"viewBox=\"0 0 24 24\"\n",
       "       width=\"24px\">\n",
       "    <path d=\"M0 0h24v24H0V0z\" fill=\"none\"/>\n",
       "    <path d=\"M18.56 5.44l.94 2.06.94-2.06 2.06-.94-2.06-.94-.94-2.06-.94 2.06-2.06.94zm-11 1L8.5 8.5l.94-2.06 2.06-.94-2.06-.94L8.5 2.5l-.94 2.06-2.06.94zm10 10l.94 2.06.94-2.06 2.06-.94-2.06-.94-.94-2.06-.94 2.06-2.06.94z\"/><path d=\"M17.41 7.96l-1.37-1.37c-.4-.4-.92-.59-1.43-.59-.52 0-1.04.2-1.43.59L10.3 9.45l-7.72 7.72c-.78.78-.78 2.05 0 2.83L4 21.41c.39.39.9.59 1.41.59.51 0 1.02-.2 1.41-.59l7.78-7.78 2.81-2.81c.8-.78.8-2.07 0-2.86zM5.41 20L4 18.59l7.72-7.72 1.47 1.35L5.41 20z\"/>\n",
       "  </svg>\n",
       "      </button>\n",
       "      \n",
       "  <style>\n",
       "    .colab-df-container {\n",
       "      display:flex;\n",
       "      flex-wrap:wrap;\n",
       "      gap: 12px;\n",
       "    }\n",
       "\n",
       "    .colab-df-convert {\n",
       "      background-color: #E8F0FE;\n",
       "      border: none;\n",
       "      border-radius: 50%;\n",
       "      cursor: pointer;\n",
       "      display: none;\n",
       "      fill: #1967D2;\n",
       "      height: 32px;\n",
       "      padding: 0 0 0 0;\n",
       "      width: 32px;\n",
       "    }\n",
       "\n",
       "    .colab-df-convert:hover {\n",
       "      background-color: #E2EBFA;\n",
       "      box-shadow: 0px 1px 2px rgba(60, 64, 67, 0.3), 0px 1px 3px 1px rgba(60, 64, 67, 0.15);\n",
       "      fill: #174EA6;\n",
       "    }\n",
       "\n",
       "    [theme=dark] .colab-df-convert {\n",
       "      background-color: #3B4455;\n",
       "      fill: #D2E3FC;\n",
       "    }\n",
       "\n",
       "    [theme=dark] .colab-df-convert:hover {\n",
       "      background-color: #434B5C;\n",
       "      box-shadow: 0px 1px 3px 1px rgba(0, 0, 0, 0.15);\n",
       "      filter: drop-shadow(0px 1px 2px rgba(0, 0, 0, 0.3));\n",
       "      fill: #FFFFFF;\n",
       "    }\n",
       "  </style>\n",
       "\n",
       "      <script>\n",
       "        const buttonEl =\n",
       "          document.querySelector('#df-d65ec5e4-9f48-4ccf-8a00-58a23c385a09 button.colab-df-convert');\n",
       "        buttonEl.style.display =\n",
       "          google.colab.kernel.accessAllowed ? 'block' : 'none';\n",
       "\n",
       "        async function convertToInteractive(key) {\n",
       "          const element = document.querySelector('#df-d65ec5e4-9f48-4ccf-8a00-58a23c385a09');\n",
       "          const dataTable =\n",
       "            await google.colab.kernel.invokeFunction('convertToInteractive',\n",
       "                                                     [key], {});\n",
       "          if (!dataTable) return;\n",
       "\n",
       "          const docLinkHtml = 'Like what you see? Visit the ' +\n",
       "            '<a target=\"_blank\" href=https://colab.research.google.com/notebooks/data_table.ipynb>data table notebook</a>'\n",
       "            + ' to learn more about interactive tables.';\n",
       "          element.innerHTML = '';\n",
       "          dataTable['output_type'] = 'display_data';\n",
       "          await google.colab.output.renderOutput(dataTable, element);\n",
       "          const docLink = document.createElement('div');\n",
       "          docLink.innerHTML = docLinkHtml;\n",
       "          element.appendChild(docLink);\n",
       "        }\n",
       "      </script>\n",
       "    </div>\n",
       "  </div>\n",
       "  "
      ],
      "text/plain": [
       "       gender  ...                                               text\n",
       "76369    male  ...         First of all... if you're the guy with ...\n",
       "456865   male  ...             Sigma Corporation is pleased to ann...\n",
       "237749   male  ...          todae must sae lots of sorry.... first...\n",
       "101803   male  ...             had a great time at the dinner part...\n",
       "615298   male  ...         Logged into XBox Live (XBL) and saw tha...\n",
       "\n",
       "[5 rows x 5 columns]"
      ]
     },
     "execution_count": 7,
     "metadata": {},
     "output_type": "execute_result"
    }
   ],
   "source": [
    "data_original.sample(5)"
   ]
  },
  {
   "cell_type": "code",
   "execution_count": null,
   "metadata": {
    "colab": {
     "base_uri": "https://localhost:8080/"
    },
    "id": "6nKbRi7sug8d",
    "outputId": "6c3a2b93-6c50-470b-9886-6908e63723b4"
   },
   "outputs": [
    {
     "data": {
      "text/plain": [
       "male      345193\n",
       "female    336091\n",
       "Name: gender, dtype: int64"
      ]
     },
     "execution_count": 8,
     "metadata": {},
     "output_type": "execute_result"
    }
   ],
   "source": [
    "data_original.gender.value_counts()"
   ]
  },
  {
   "cell_type": "code",
   "execution_count": null,
   "metadata": {
    "colab": {
     "base_uri": "https://localhost:8080/"
    },
    "id": "LH2Ylqh1uq5_",
    "outputId": "48896fda-37e2-45b6-d465-3aae0c4a34d8"
   },
   "outputs": [
    {
     "data": {
      "text/plain": [
       "17    80859\n",
       "24    80071\n",
       "23    72889\n",
       "16    72708\n",
       "25    67051\n",
       "26    55312\n",
       "27    46124\n",
       "15    41767\n",
       "14    27400\n",
       "34    21347\n",
       "33    17584\n",
       "35    17462\n",
       "36    14229\n",
       "13    13133\n",
       "37     9317\n",
       "38     7545\n",
       "39     5556\n",
       "40     5016\n",
       "45     4482\n",
       "43     4230\n",
       "41     3738\n",
       "48     3572\n",
       "42     2908\n",
       "46     2733\n",
       "47     2207\n",
       "44     2044\n",
       "Name: age, dtype: int64"
      ]
     },
     "execution_count": 9,
     "metadata": {},
     "output_type": "execute_result"
    }
   ],
   "source": [
    "data_original.age.value_counts()"
   ]
  },
  {
   "cell_type": "code",
   "execution_count": null,
   "metadata": {
    "colab": {
     "base_uri": "https://localhost:8080/"
    },
    "id": "LFU5J4M_u0Q5",
    "outputId": "507a8b19-59ba-4369-a67d-ba9c476bf2f8"
   },
   "outputs": [
    {
     "data": {
      "text/plain": [
       "indUnk                     251015\n",
       "Student                    153903\n",
       "Technology                  42055\n",
       "Arts                        32449\n",
       "Education                   29633\n",
       "Communications-Media        20140\n",
       "Internet                    16006\n",
       "Non-Profit                  14700\n",
       "Engineering                 11653\n",
       "Law                          9040\n",
       "Publishing                   7753\n",
       "Science                      7269\n",
       "Government                   6907\n",
       "Consulting                   5862\n",
       "Religion                     5235\n",
       "Fashion                      4851\n",
       "Marketing                    4769\n",
       "Advertising                  4676\n",
       "BusinessServices             4500\n",
       "Banking                      4049\n",
       "Chemicals                    3928\n",
       "Telecommunications           3891\n",
       "Accounting                   3832\n",
       "Military                     3128\n",
       "Museums-Libraries            3096\n",
       "Sports-Recreation            3038\n",
       "HumanResources               3010\n",
       "RealEstate                   2870\n",
       "Transportation               2326\n",
       "Manufacturing                2272\n",
       "Biotech                      2234\n",
       "Tourism                      1942\n",
       "LawEnforcement-Security      1878\n",
       "Architecture                 1638\n",
       "InvestmentBanking            1292\n",
       "Automotive                   1244\n",
       "Agriculture                  1235\n",
       "Construction                 1093\n",
       "Environment                   592\n",
       "Maritime                      280\n",
       "Name: topic, dtype: int64"
      ]
     },
     "execution_count": 10,
     "metadata": {},
     "output_type": "execute_result"
    }
   ],
   "source": [
    "data_original.topic.value_counts()"
   ]
  },
  {
   "cell_type": "code",
   "execution_count": null,
   "metadata": {
    "colab": {
     "base_uri": "https://localhost:8080/"
    },
    "id": "6PxgSODlu8Wr",
    "outputId": "7c7ee0b8-9938-4a45-a960-0736d15b9f52"
   },
   "outputs": [
    {
     "data": {
      "text/plain": [
       "Cancer         65048\n",
       "Aries          64979\n",
       "Taurus         62561\n",
       "Libra          62363\n",
       "Virgo          60399\n",
       "Scorpio        57161\n",
       "Pisces         54053\n",
       "Leo            53811\n",
       "Gemini         51985\n",
       "Sagittarius    50036\n",
       "Aquarius       49687\n",
       "Capricorn      49201\n",
       "Name: sign, dtype: int64"
      ]
     },
     "execution_count": 11,
     "metadata": {},
     "output_type": "execute_result"
    }
   ],
   "source": [
    "data_original.sign.value_counts()"
   ]
  },
  {
   "cell_type": "code",
   "execution_count": null,
   "metadata": {
    "colab": {
     "base_uri": "https://localhost:8080/",
     "height": 302
    },
    "id": "J72tdmpDvJsD",
    "outputId": "98af655b-d2e8-4477-cd4a-6d222e09d4dd"
   },
   "outputs": [
    {
     "data": {
      "text/plain": [
       "<matplotlib.axes._subplots.AxesSubplot at 0x7ff9da2a1350>"
      ]
     },
     "execution_count": 12,
     "metadata": {},
     "output_type": "execute_result"
    },
    {
     "data": {
      "image/png": "[encoded data removed]",
      "text/plain": [
       "<Figure size 432x288 with 1 Axes>"
      ]
     },
     "metadata": {
      "needs_background": "light"
     },
     "output_type": "display_data"
    }
   ],
   "source": [
    "sns.histplot(data_original.age)"
   ]
  },
  {
   "cell_type": "markdown",
   "metadata": {
    "id": "a14aJoY8wZ8W"
   },
   "source": [
    "Except for the column topics most of the data seems balanced"
   ]
  },
  {
   "cell_type": "markdown",
   "metadata": {
    "id": "Qb_oO7UMwrIU"
   },
   "source": [
    "## Taking a sample of the data instead of the total data will help in reducing the data size and hence the computation requirement"
   ]
  },
  {
   "cell_type": "code",
   "execution_count": null,
   "metadata": {
    "id": "gslKG_okwqTi"
   },
   "outputs": [],
   "source": [
    "def stratified_sample(df, strata, size=None, seed=None, keep_index= True):\n",
    "    population = len(df)\n",
    "    size = __smpl_size(population, size)\n",
    "    tmp = df[strata]\n",
    "    tmp['size'] = 1\n",
    "    tmp_grpd = tmp.groupby(strata).count().reset_index()\n",
    "    tmp_grpd['samp_size'] = round(size/population * tmp_grpd['size']).astype(int)\n",
    "\n",
    "    # controlling variable to create the dataframe or append to it\n",
    "    first = True \n",
    "    for i in range(len(tmp_grpd)):\n",
    "        # query generator for each iteration\n",
    "        qry=''\n",
    "        for s in range(len(strata)):\n",
    "            stratum = strata[s]\n",
    "            value = tmp_grpd.iloc[i][stratum]\n",
    "            n = tmp_grpd.iloc[i]['samp_size']\n",
    "\n",
    "            if type(value) == str:\n",
    "                value = \"'\" + str(value) + \"'\"\n",
    "            \n",
    "            if s != len(strata)-1:\n",
    "                qry = qry + stratum + ' == ' + str(value) +' & '\n",
    "            else:\n",
    "                qry = qry + stratum + ' == ' + str(value)\n",
    "        \n",
    "        # final dataframe\n",
    "        if first:\n",
    "            stratified_df = df.query(qry).sample(n=n, random_state=seed).reset_index(drop=(not keep_index))\n",
    "            first = False\n",
    "        else:\n",
    "            tmp_df = df.query(qry).sample(n=n, random_state=seed).reset_index(drop=(not keep_index))\n",
    "            stratified_df = stratified_df.append(tmp_df, ignore_index=True)\n",
    "    \n",
    "    return stratified_df\n",
    "\n",
    "\n",
    "\n",
    "def stratified_sample_report(df, strata, size=None):\n",
    "    population = len(df)\n",
    "    size = __smpl_size(population, size)\n",
    "    tmp = df[strata]\n",
    "    tmp['size'] = 1\n",
    "    tmp_grpd = tmp.groupby(strata).count().reset_index()\n",
    "    tmp_grpd['samp_size'] = round(size/population * tmp_grpd['size']).astype(int)\n",
    "    return tmp_grpd\n",
    "\n",
    "\n",
    "def __smpl_size(population, size):\n",
    "    if size is None:\n",
    "        cochran_n = round(((1.96)**2 * 0.5 * 0.5)/ 0.02**2)\n",
    "        n = round(cochran_n/(1+((cochran_n -1) /population)))\n",
    "    elif size >= 0 and size < 1:\n",
    "        n = round(population * size)\n",
    "    elif size < 0:\n",
    "        raise ValueError('Parameter \"size\" must be an integer or a proportion between 0 and 0.99.')\n",
    "    elif size >= 1:\n",
    "        n = size\n",
    "    return n"
   ]
  },
  {
   "cell_type": "code",
   "execution_count": null,
   "metadata": {
    "id": "aeQQcHV1xN4f"
   },
   "outputs": [],
   "source": [
    "new_data = stratified_sample(data_original, ['sign', 'gender', 'topic', 'age'], size=40000, seed=0, keep_index= True)"
   ]
  },
  {
   "cell_type": "code",
   "execution_count": null,
   "metadata": {
    "colab": {
     "base_uri": "https://localhost:8080/"
    },
    "id": "OeL4VZLgzFH3",
    "outputId": "5761e338-710e-431b-88e0-d2933469f670"
   },
   "outputs": [
    {
     "name": "stdout",
     "output_type": "stream",
     "text": [
      "<class 'pandas.core.frame.DataFrame'>\n",
      "RangeIndex: 39842 entries, 0 to 39841\n",
      "Data columns (total 6 columns):\n",
      " #   Column  Non-Null Count  Dtype \n",
      "---  ------  --------------  ----- \n",
      " 0   index   39842 non-null  int64 \n",
      " 1   gender  39842 non-null  object\n",
      " 2   age     39842 non-null  int64 \n",
      " 3   topic   39842 non-null  object\n",
      " 4   sign    39842 non-null  object\n",
      " 5   text    39842 non-null  object\n",
      "dtypes: int64(2), object(4)\n",
      "memory usage: 1.8+ MB\n"
     ]
    }
   ],
   "source": [
    "new_data.info()"
   ]
  },
  {
   "cell_type": "code",
   "execution_count": null,
   "metadata": {
    "colab": {
     "base_uri": "https://localhost:8080/"
    },
    "id": "9zELdTXEzxlG",
    "outputId": "6b0e4599-0c46-4a8a-8cb3-ea7488a9a555"
   },
   "outputs": [
    {
     "name": "stdout",
     "output_type": "stream",
     "text": [
      "male      0.50668\n",
      "female    0.49332\n",
      "Name: gender, dtype: float64\n",
      "male      0.506476\n",
      "female    0.493524\n",
      "Name: gender, dtype: float64\n"
     ]
    }
   ],
   "source": [
    "print(data_original.gender.value_counts(1))\n",
    "print(new_data.gender.value_counts(1))\n"
   ]
  },
  {
   "cell_type": "code",
   "execution_count": null,
   "metadata": {
    "colab": {
     "base_uri": "https://localhost:8080/"
    },
    "id": "6rdYNlf70Tmn",
    "outputId": "027ab7ff-45b1-454d-9742-51a2dc9866a2"
   },
   "outputs": [
    {
     "name": "stdout",
     "output_type": "stream",
     "text": [
      "17    0.118686\n",
      "24    0.117530\n",
      "23    0.106988\n",
      "16    0.106722\n",
      "25    0.098419\n",
      "26    0.081188\n",
      "27    0.067702\n",
      "15    0.061306\n",
      "14    0.040218\n",
      "34    0.031333\n",
      "33    0.025810\n",
      "35    0.025631\n",
      "36    0.020886\n",
      "13    0.019277\n",
      "37    0.013676\n",
      "38    0.011075\n",
      "39    0.008155\n",
      "40    0.007363\n",
      "45    0.006579\n",
      "43    0.006209\n",
      "41    0.005487\n",
      "48    0.005243\n",
      "42    0.004268\n",
      "46    0.004012\n",
      "47    0.003239\n",
      "44    0.003000\n",
      "Name: age, dtype: float64\n",
      "17    0.119020\n",
      "24    0.118041\n",
      "16    0.106998\n",
      "23    0.106947\n",
      "25    0.098238\n",
      "26    0.081171\n",
      "27    0.067768\n",
      "15    0.061543\n",
      "14    0.040159\n",
      "34    0.031324\n",
      "33    0.025777\n",
      "35    0.025551\n",
      "36    0.020757\n",
      "13    0.019301\n",
      "37    0.013579\n",
      "38    0.010993\n",
      "39    0.008082\n",
      "40    0.007329\n",
      "45    0.006526\n",
      "43    0.006149\n",
      "41    0.005396\n",
      "48    0.005120\n",
      "42    0.004141\n",
      "46    0.003966\n",
      "47    0.003238\n",
      "44    0.002886\n",
      "Name: age, dtype: float64\n"
     ]
    }
   ],
   "source": [
    "print(data_original.age.value_counts(1))\n",
    "print(new_data.age.value_counts(1))"
   ]
  },
  {
   "cell_type": "code",
   "execution_count": null,
   "metadata": {
    "colab": {
     "base_uri": "https://localhost:8080/"
    },
    "id": "oFr9FdaL0aCm",
    "outputId": "431fd812-2510-48ab-b6fe-098e9892cbbc"
   },
   "outputs": [
    {
     "name": "stdout",
     "output_type": "stream",
     "text": [
      "indUnk                     0.368444\n",
      "Student                    0.225901\n",
      "Technology                 0.061729\n",
      "Arts                       0.047629\n",
      "Education                  0.043496\n",
      "Communications-Media       0.029562\n",
      "Internet                   0.023494\n",
      "Non-Profit                 0.021577\n",
      "Engineering                0.017104\n",
      "Law                        0.013269\n",
      "Publishing                 0.011380\n",
      "Science                    0.010670\n",
      "Government                 0.010138\n",
      "Consulting                 0.008604\n",
      "Religion                   0.007684\n",
      "Fashion                    0.007120\n",
      "Marketing                  0.007000\n",
      "Advertising                0.006864\n",
      "BusinessServices           0.006605\n",
      "Banking                    0.005943\n",
      "Chemicals                  0.005766\n",
      "Telecommunications         0.005711\n",
      "Accounting                 0.005625\n",
      "Military                   0.004591\n",
      "Museums-Libraries          0.004544\n",
      "Sports-Recreation          0.004459\n",
      "HumanResources             0.004418\n",
      "RealEstate                 0.004213\n",
      "Transportation             0.003414\n",
      "Manufacturing              0.003335\n",
      "Biotech                    0.003279\n",
      "Tourism                    0.002850\n",
      "LawEnforcement-Security    0.002757\n",
      "Architecture               0.002404\n",
      "InvestmentBanking          0.001896\n",
      "Automotive                 0.001826\n",
      "Agriculture                0.001813\n",
      "Construction               0.001604\n",
      "Environment                0.000869\n",
      "Maritime                   0.000411\n",
      "Name: topic, dtype: float64\n",
      "indUnk                     0.369685\n",
      "Student                    0.226620\n",
      "Technology                 0.061869\n",
      "Arts                       0.047663\n",
      "Education                  0.043698\n",
      "Communications-Media       0.029642\n",
      "Internet                   0.023568\n",
      "Non-Profit                 0.021535\n",
      "Engineering                0.017093\n",
      "Law                        0.013202\n",
      "Publishing                 0.011395\n",
      "Science                    0.010542\n",
      "Government                 0.009914\n",
      "Consulting                 0.008534\n",
      "Religion                   0.007630\n",
      "Fashion                    0.006927\n",
      "Marketing                  0.006902\n",
      "Advertising                0.006727\n",
      "BusinessServices           0.006450\n",
      "Banking                    0.005823\n",
      "Chemicals                  0.005698\n",
      "Telecommunications         0.005672\n",
      "Accounting                 0.005547\n",
      "Military                   0.004543\n",
      "Sports-Recreation          0.004493\n",
      "HumanResources             0.004468\n",
      "Museums-Libraries          0.004443\n",
      "RealEstate                 0.004141\n",
      "Transportation             0.003388\n",
      "Biotech                    0.003188\n",
      "Manufacturing              0.003162\n",
      "Tourism                    0.002711\n",
      "LawEnforcement-Security    0.002711\n",
      "Architecture               0.002410\n",
      "Agriculture                0.001807\n",
      "InvestmentBanking          0.001807\n",
      "Automotive                 0.001657\n",
      "Construction               0.001506\n",
      "Environment                0.000803\n",
      "Maritime                   0.000427\n",
      "Name: topic, dtype: float64\n"
     ]
    }
   ],
   "source": [
    "print(data_original.topic.value_counts(1))\n",
    "print(new_data.topic.value_counts(1))"
   ]
  },
  {
   "cell_type": "code",
   "execution_count": null,
   "metadata": {
    "colab": {
     "base_uri": "https://localhost:8080/"
    },
    "id": "VPbnSnge0i44",
    "outputId": "cfae0439-cdd9-4c06-d492-9de473fe7047"
   },
   "outputs": [
    {
     "name": "stdout",
     "output_type": "stream",
     "text": [
      "Cancer         0.095479\n",
      "Aries          0.095377\n",
      "Taurus         0.091828\n",
      "Libra          0.091537\n",
      "Virgo          0.088655\n",
      "Scorpio        0.083902\n",
      "Pisces         0.079340\n",
      "Leo            0.078985\n",
      "Gemini         0.076304\n",
      "Sagittarius    0.073444\n",
      "Aquarius       0.072931\n",
      "Capricorn      0.072218\n",
      "Name: sign, dtype: float64\n",
      "Cancer         0.095527\n",
      "Aries          0.095427\n",
      "Taurus         0.091888\n",
      "Libra          0.091311\n",
      "Virgo          0.088751\n",
      "Scorpio        0.084007\n",
      "Leo            0.079037\n",
      "Pisces         0.079037\n",
      "Gemini         0.076276\n",
      "Sagittarius    0.073415\n",
      "Aquarius       0.073064\n",
      "Capricorn      0.072260\n",
      "Name: sign, dtype: float64\n"
     ]
    }
   ],
   "source": [
    "print(data_original.sign.value_counts(1))\n",
    "print(new_data.sign.value_counts(1))"
   ]
  },
  {
   "cell_type": "markdown",
   "metadata": {
    "id": "yyb-Nq550nEU"
   },
   "source": [
    "We see that after stratified sampling the distribution of data remains same"
   ]
  },
  {
   "cell_type": "markdown",
   "metadata": {
    "id": "JRB6oRc6jGup"
   },
   "source": [
    "## Preprocessing\n",
    "\n",
    "Some of the common text preprocessing / cleaning steps are:\n",
    "\n",
    " - remove unwanted space\n",
    " - remove unwanted characters / remove Punctuation\n",
    " - remove Stopwords\n",
    " - convert text to lowercase\n",
    " - Stemming ( Snowball )"
   ]
  },
  {
   "cell_type": "code",
   "execution_count": null,
   "metadata": {
    "id": "PEDdVITBjGuq"
   },
   "outputs": [],
   "source": [
    "## truncated dataset to start on rapid protyping to preprocessing \n",
    "df = new_data[[\"text\"]]"
   ]
  },
  {
   "cell_type": "code",
   "execution_count": null,
   "metadata": {
    "colab": {
     "base_uri": "https://localhost:8080/",
     "height": 200
    },
    "id": "kdhbdOzXjGuq",
    "outputId": "c84b60ec-5e8b-4c0e-c97d-4bdebeca0a22"
   },
   "outputs": [
    {
     "data": {
      "text/html": [
       "\n",
       "  <div id=\"df-c16c6848-ae31-4f8d-9d9e-2281c42c5cc9\">\n",
       "    <div class=\"colab-df-container\">\n",
       "      <div>\n",
       "<style scoped>\n",
       "    .dataframe tbody tr th:only-of-type {\n",
       "        vertical-align: middle;\n",
       "    }\n",
       "\n",
       "    .dataframe tbody tr th {\n",
       "        vertical-align: top;\n",
       "    }\n",
       "\n",
       "    .dataframe thead th {\n",
       "        text-align: right;\n",
       "    }\n",
       "</style>\n",
       "<table border=\"1\" class=\"dataframe\">\n",
       "  <thead>\n",
       "    <tr style=\"text-align: right;\">\n",
       "      <th></th>\n",
       "      <th>text</th>\n",
       "    </tr>\n",
       "  </thead>\n",
       "  <tbody>\n",
       "    <tr>\n",
       "      <th>0</th>\n",
       "      <td>cindy bkt kw masaya k n???</td>\n",
       "    </tr>\n",
       "    <tr>\n",
       "      <th>1</th>\n",
       "      <td>This is the start of starting over........</td>\n",
       "    </tr>\n",
       "    <tr>\n",
       "      <th>2</th>\n",
       "      <td>Today has been quite an eye opener. Eri...</td>\n",
       "    </tr>\n",
       "    <tr>\n",
       "      <th>3</th>\n",
       "      <td>Its Sunday, wasnt it just Sunday the da...</td>\n",
       "    </tr>\n",
       "    <tr>\n",
       "      <th>4</th>\n",
       "      <td>Last night i came home after work and w...</td>\n",
       "    </tr>\n",
       "  </tbody>\n",
       "</table>\n",
       "</div>\n",
       "      <button class=\"colab-df-convert\" onclick=\"convertToInteractive('df-c16c6848-ae31-4f8d-9d9e-2281c42c5cc9')\"\n",
       "              title=\"Convert this dataframe to an interactive table.\"\n",
       "              style=\"display:none;\">\n",
       "        \n",
       "  <svg xmlns=\"http://www.w3.org/2000/svg\" height=\"24px\"viewBox=\"0 0 24 24\"\n",
       "       width=\"24px\">\n",
       "    <path d=\"M0 0h24v24H0V0z\" fill=\"none\"/>\n",
       "    <path d=\"M18.56 5.44l.94 2.06.94-2.06 2.06-.94-2.06-.94-.94-2.06-.94 2.06-2.06.94zm-11 1L8.5 8.5l.94-2.06 2.06-.94-2.06-.94L8.5 2.5l-.94 2.06-2.06.94zm10 10l.94 2.06.94-2.06 2.06-.94-2.06-.94-.94-2.06-.94 2.06-2.06.94z\"/><path d=\"M17.41 7.96l-1.37-1.37c-.4-.4-.92-.59-1.43-.59-.52 0-1.04.2-1.43.59L10.3 9.45l-7.72 7.72c-.78.78-.78 2.05 0 2.83L4 21.41c.39.39.9.59 1.41.59.51 0 1.02-.2 1.41-.59l7.78-7.78 2.81-2.81c.8-.78.8-2.07 0-2.86zM5.41 20L4 18.59l7.72-7.72 1.47 1.35L5.41 20z\"/>\n",
       "  </svg>\n",
       "      </button>\n",
       "      \n",
       "  <style>\n",
       "    .colab-df-container {\n",
       "      display:flex;\n",
       "      flex-wrap:wrap;\n",
       "      gap: 12px;\n",
       "    }\n",
       "\n",
       "    .colab-df-convert {\n",
       "      background-color: #E8F0FE;\n",
       "      border: none;\n",
       "      border-radius: 50%;\n",
       "      cursor: pointer;\n",
       "      display: none;\n",
       "      fill: #1967D2;\n",
       "      height: 32px;\n",
       "      padding: 0 0 0 0;\n",
       "      width: 32px;\n",
       "    }\n",
       "\n",
       "    .colab-df-convert:hover {\n",
       "      background-color: #E2EBFA;\n",
       "      box-shadow: 0px 1px 2px rgba(60, 64, 67, 0.3), 0px 1px 3px 1px rgba(60, 64, 67, 0.15);\n",
       "      fill: #174EA6;\n",
       "    }\n",
       "\n",
       "    [theme=dark] .colab-df-convert {\n",
       "      background-color: #3B4455;\n",
       "      fill: #D2E3FC;\n",
       "    }\n",
       "\n",
       "    [theme=dark] .colab-df-convert:hover {\n",
       "      background-color: #434B5C;\n",
       "      box-shadow: 0px 1px 3px 1px rgba(0, 0, 0, 0.15);\n",
       "      filter: drop-shadow(0px 1px 2px rgba(0, 0, 0, 0.3));\n",
       "      fill: #FFFFFF;\n",
       "    }\n",
       "  </style>\n",
       "\n",
       "      <script>\n",
       "        const buttonEl =\n",
       "          document.querySelector('#df-c16c6848-ae31-4f8d-9d9e-2281c42c5cc9 button.colab-df-convert');\n",
       "        buttonEl.style.display =\n",
       "          google.colab.kernel.accessAllowed ? 'block' : 'none';\n",
       "\n",
       "        async function convertToInteractive(key) {\n",
       "          const element = document.querySelector('#df-c16c6848-ae31-4f8d-9d9e-2281c42c5cc9');\n",
       "          const dataTable =\n",
       "            await google.colab.kernel.invokeFunction('convertToInteractive',\n",
       "                                                     [key], {});\n",
       "          if (!dataTable) return;\n",
       "\n",
       "          const docLinkHtml = 'Like what you see? Visit the ' +\n",
       "            '<a target=\"_blank\" href=https://colab.research.google.com/notebooks/data_table.ipynb>data table notebook</a>'\n",
       "            + ' to learn more about interactive tables.';\n",
       "          element.innerHTML = '';\n",
       "          dataTable['output_type'] = 'display_data';\n",
       "          await google.colab.output.renderOutput(dataTable, element);\n",
       "          const docLink = document.createElement('div');\n",
       "          docLink.innerHTML = docLinkHtml;\n",
       "          element.appendChild(docLink);\n",
       "        }\n",
       "      </script>\n",
       "    </div>\n",
       "  </div>\n",
       "  "
      ],
      "text/plain": [
       "                                                text\n",
       "0                      cindy bkt kw masaya k n???   \n",
       "1         This is the start of starting over........\n",
       "2         Today has been quite an eye opener. Eri...\n",
       "3         Its Sunday, wasnt it just Sunday the da...\n",
       "4         Last night i came home after work and w..."
      ]
     },
     "execution_count": 21,
     "metadata": {},
     "output_type": "execute_result"
    }
   ],
   "source": [
    "df[:5]"
   ]
  },
  {
   "cell_type": "code",
   "execution_count": null,
   "metadata": {
    "id": "zUWrvWpqjGur"
   },
   "outputs": [],
   "source": [
    "pd.options.mode.chained_assignment = None\n",
    "df['text'] = df[['text']]\n",
    "df[\"text\"] = df[\"text\"].astype(str)"
   ]
  },
  {
   "cell_type": "markdown",
   "metadata": {
    "id": "z7RcYazrjGur"
   },
   "source": [
    "### Lower Casing"
   ]
  },
  {
   "cell_type": "code",
   "execution_count": null,
   "metadata": {
    "colab": {
     "base_uri": "https://localhost:8080/",
     "height": 200
    },
    "id": "O2B9ZpUCjGur",
    "outputId": "99eb2915-73f5-4fa7-d4d4-f2d8dbfb000a"
   },
   "outputs": [
    {
     "data": {
      "text/html": [
       "\n",
       "  <div id=\"df-46157500-a2ef-44c4-b7be-62dc60cabf51\">\n",
       "    <div class=\"colab-df-container\">\n",
       "      <div>\n",
       "<style scoped>\n",
       "    .dataframe tbody tr th:only-of-type {\n",
       "        vertical-align: middle;\n",
       "    }\n",
       "\n",
       "    .dataframe tbody tr th {\n",
       "        vertical-align: top;\n",
       "    }\n",
       "\n",
       "    .dataframe thead th {\n",
       "        text-align: right;\n",
       "    }\n",
       "</style>\n",
       "<table border=\"1\" class=\"dataframe\">\n",
       "  <thead>\n",
       "    <tr style=\"text-align: right;\">\n",
       "      <th></th>\n",
       "      <th>text</th>\n",
       "      <th>text_lower</th>\n",
       "    </tr>\n",
       "  </thead>\n",
       "  <tbody>\n",
       "    <tr>\n",
       "      <th>0</th>\n",
       "      <td>cindy bkt kw masaya k n???</td>\n",
       "      <td>cindy bkt kw masaya k n???</td>\n",
       "    </tr>\n",
       "    <tr>\n",
       "      <th>1</th>\n",
       "      <td>This is the start of starting over........</td>\n",
       "      <td>this is the start of starting over........</td>\n",
       "    </tr>\n",
       "    <tr>\n",
       "      <th>2</th>\n",
       "      <td>Today has been quite an eye opener. Eri...</td>\n",
       "      <td>today has been quite an eye opener. eri...</td>\n",
       "    </tr>\n",
       "    <tr>\n",
       "      <th>3</th>\n",
       "      <td>Its Sunday, wasnt it just Sunday the da...</td>\n",
       "      <td>its sunday, wasnt it just sunday the da...</td>\n",
       "    </tr>\n",
       "    <tr>\n",
       "      <th>4</th>\n",
       "      <td>Last night i came home after work and w...</td>\n",
       "      <td>last night i came home after work and w...</td>\n",
       "    </tr>\n",
       "  </tbody>\n",
       "</table>\n",
       "</div>\n",
       "      <button class=\"colab-df-convert\" onclick=\"convertToInteractive('df-46157500-a2ef-44c4-b7be-62dc60cabf51')\"\n",
       "              title=\"Convert this dataframe to an interactive table.\"\n",
       "              style=\"display:none;\">\n",
       "        \n",
       "  <svg xmlns=\"http://www.w3.org/2000/svg\" height=\"24px\"viewBox=\"0 0 24 24\"\n",
       "       width=\"24px\">\n",
       "    <path d=\"M0 0h24v24H0V0z\" fill=\"none\"/>\n",
       "    <path d=\"M18.56 5.44l.94 2.06.94-2.06 2.06-.94-2.06-.94-.94-2.06-.94 2.06-2.06.94zm-11 1L8.5 8.5l.94-2.06 2.06-.94-2.06-.94L8.5 2.5l-.94 2.06-2.06.94zm10 10l.94 2.06.94-2.06 2.06-.94-2.06-.94-.94-2.06-.94 2.06-2.06.94z\"/><path d=\"M17.41 7.96l-1.37-1.37c-.4-.4-.92-.59-1.43-.59-.52 0-1.04.2-1.43.59L10.3 9.45l-7.72 7.72c-.78.78-.78 2.05 0 2.83L4 21.41c.39.39.9.59 1.41.59.51 0 1.02-.2 1.41-.59l7.78-7.78 2.81-2.81c.8-.78.8-2.07 0-2.86zM5.41 20L4 18.59l7.72-7.72 1.47 1.35L5.41 20z\"/>\n",
       "  </svg>\n",
       "      </button>\n",
       "      \n",
       "  <style>\n",
       "    .colab-df-container {\n",
       "      display:flex;\n",
       "      flex-wrap:wrap;\n",
       "      gap: 12px;\n",
       "    }\n",
       "\n",
       "    .colab-df-convert {\n",
       "      background-color: #E8F0FE;\n",
       "      border: none;\n",
       "      border-radius: 50%;\n",
       "      cursor: pointer;\n",
       "      display: none;\n",
       "      fill: #1967D2;\n",
       "      height: 32px;\n",
       "      padding: 0 0 0 0;\n",
       "      width: 32px;\n",
       "    }\n",
       "\n",
       "    .colab-df-convert:hover {\n",
       "      background-color: #E2EBFA;\n",
       "      box-shadow: 0px 1px 2px rgba(60, 64, 67, 0.3), 0px 1px 3px 1px rgba(60, 64, 67, 0.15);\n",
       "      fill: #174EA6;\n",
       "    }\n",
       "\n",
       "    [theme=dark] .colab-df-convert {\n",
       "      background-color: #3B4455;\n",
       "      fill: #D2E3FC;\n",
       "    }\n",
       "\n",
       "    [theme=dark] .colab-df-convert:hover {\n",
       "      background-color: #434B5C;\n",
       "      box-shadow: 0px 1px 3px 1px rgba(0, 0, 0, 0.15);\n",
       "      filter: drop-shadow(0px 1px 2px rgba(0, 0, 0, 0.3));\n",
       "      fill: #FFFFFF;\n",
       "    }\n",
       "  </style>\n",
       "\n",
       "      <script>\n",
       "        const buttonEl =\n",
       "          document.querySelector('#df-46157500-a2ef-44c4-b7be-62dc60cabf51 button.colab-df-convert');\n",
       "        buttonEl.style.display =\n",
       "          google.colab.kernel.accessAllowed ? 'block' : 'none';\n",
       "\n",
       "        async function convertToInteractive(key) {\n",
       "          const element = document.querySelector('#df-46157500-a2ef-44c4-b7be-62dc60cabf51');\n",
       "          const dataTable =\n",
       "            await google.colab.kernel.invokeFunction('convertToInteractive',\n",
       "                                                     [key], {});\n",
       "          if (!dataTable) return;\n",
       "\n",
       "          const docLinkHtml = 'Like what you see? Visit the ' +\n",
       "            '<a target=\"_blank\" href=https://colab.research.google.com/notebooks/data_table.ipynb>data table notebook</a>'\n",
       "            + ' to learn more about interactive tables.';\n",
       "          element.innerHTML = '';\n",
       "          dataTable['output_type'] = 'display_data';\n",
       "          await google.colab.output.renderOutput(dataTable, element);\n",
       "          const docLink = document.createElement('div');\n",
       "          docLink.innerHTML = docLinkHtml;\n",
       "          element.appendChild(docLink);\n",
       "        }\n",
       "      </script>\n",
       "    </div>\n",
       "  </div>\n",
       "  "
      ],
      "text/plain": [
       "                                                text                                         text_lower\n",
       "0                      cindy bkt kw masaya k n???                         cindy bkt kw masaya k n???   \n",
       "1         This is the start of starting over........         this is the start of starting over........\n",
       "2         Today has been quite an eye opener. Eri...         today has been quite an eye opener. eri...\n",
       "3         Its Sunday, wasnt it just Sunday the da...         its sunday, wasnt it just sunday the da...\n",
       "4         Last night i came home after work and w...         last night i came home after work and w..."
      ]
     },
     "execution_count": 23,
     "metadata": {},
     "output_type": "execute_result"
    }
   ],
   "source": [
    "df[\"text_lower\"] = df[\"text\"].str.lower()\n",
    "df.head()"
   ]
  },
  {
   "cell_type": "markdown",
   "metadata": {
    "id": "bo_fFFOdjGus"
   },
   "source": [
    "### Removal of Punctuations"
   ]
  },
  {
   "cell_type": "code",
   "execution_count": null,
   "metadata": {
    "colab": {
     "base_uri": "https://localhost:8080/",
     "height": 200
    },
    "id": "BPW8Eq0wjGus",
    "outputId": "ad8c3d6e-e76b-4db3-e92d-d86760ba3c61"
   },
   "outputs": [
    {
     "data": {
      "text/html": [
       "\n",
       "  <div id=\"df-d9270042-4e55-4bc2-8c09-e4ecd6e20fa3\">\n",
       "    <div class=\"colab-df-container\">\n",
       "      <div>\n",
       "<style scoped>\n",
       "    .dataframe tbody tr th:only-of-type {\n",
       "        vertical-align: middle;\n",
       "    }\n",
       "\n",
       "    .dataframe tbody tr th {\n",
       "        vertical-align: top;\n",
       "    }\n",
       "\n",
       "    .dataframe thead th {\n",
       "        text-align: right;\n",
       "    }\n",
       "</style>\n",
       "<table border=\"1\" class=\"dataframe\">\n",
       "  <thead>\n",
       "    <tr style=\"text-align: right;\">\n",
       "      <th></th>\n",
       "      <th>text</th>\n",
       "      <th>text_lower</th>\n",
       "      <th>text_wo_punctuation</th>\n",
       "    </tr>\n",
       "  </thead>\n",
       "  <tbody>\n",
       "    <tr>\n",
       "      <th>0</th>\n",
       "      <td>cindy bkt kw masaya k n???</td>\n",
       "      <td>cindy bkt kw masaya k n???</td>\n",
       "      <td>cindy bkt kw masaya k n</td>\n",
       "    </tr>\n",
       "    <tr>\n",
       "      <th>1</th>\n",
       "      <td>This is the start of starting over........</td>\n",
       "      <td>this is the start of starting over........</td>\n",
       "      <td>this is the start of starting over i ne...</td>\n",
       "    </tr>\n",
       "    <tr>\n",
       "      <th>2</th>\n",
       "      <td>Today has been quite an eye opener. Eri...</td>\n",
       "      <td>today has been quite an eye opener. eri...</td>\n",
       "      <td>today has been quite an eye opener eric...</td>\n",
       "    </tr>\n",
       "    <tr>\n",
       "      <th>3</th>\n",
       "      <td>Its Sunday, wasnt it just Sunday the da...</td>\n",
       "      <td>its sunday, wasnt it just sunday the da...</td>\n",
       "      <td>its sunday wasnt it just sunday the day...</td>\n",
       "    </tr>\n",
       "    <tr>\n",
       "      <th>4</th>\n",
       "      <td>Last night i came home after work and w...</td>\n",
       "      <td>last night i came home after work and w...</td>\n",
       "      <td>last night i came home after work and w...</td>\n",
       "    </tr>\n",
       "  </tbody>\n",
       "</table>\n",
       "</div>\n",
       "      <button class=\"colab-df-convert\" onclick=\"convertToInteractive('df-d9270042-4e55-4bc2-8c09-e4ecd6e20fa3')\"\n",
       "              title=\"Convert this dataframe to an interactive table.\"\n",
       "              style=\"display:none;\">\n",
       "        \n",
       "  <svg xmlns=\"http://www.w3.org/2000/svg\" height=\"24px\"viewBox=\"0 0 24 24\"\n",
       "       width=\"24px\">\n",
       "    <path d=\"M0 0h24v24H0V0z\" fill=\"none\"/>\n",
       "    <path d=\"M18.56 5.44l.94 2.06.94-2.06 2.06-.94-2.06-.94-.94-2.06-.94 2.06-2.06.94zm-11 1L8.5 8.5l.94-2.06 2.06-.94-2.06-.94L8.5 2.5l-.94 2.06-2.06.94zm10 10l.94 2.06.94-2.06 2.06-.94-2.06-.94-.94-2.06-.94 2.06-2.06.94z\"/><path d=\"M17.41 7.96l-1.37-1.37c-.4-.4-.92-.59-1.43-.59-.52 0-1.04.2-1.43.59L10.3 9.45l-7.72 7.72c-.78.78-.78 2.05 0 2.83L4 21.41c.39.39.9.59 1.41.59.51 0 1.02-.2 1.41-.59l7.78-7.78 2.81-2.81c.8-.78.8-2.07 0-2.86zM5.41 20L4 18.59l7.72-7.72 1.47 1.35L5.41 20z\"/>\n",
       "  </svg>\n",
       "      </button>\n",
       "      \n",
       "  <style>\n",
       "    .colab-df-container {\n",
       "      display:flex;\n",
       "      flex-wrap:wrap;\n",
       "      gap: 12px;\n",
       "    }\n",
       "\n",
       "    .colab-df-convert {\n",
       "      background-color: #E8F0FE;\n",
       "      border: none;\n",
       "      border-radius: 50%;\n",
       "      cursor: pointer;\n",
       "      display: none;\n",
       "      fill: #1967D2;\n",
       "      height: 32px;\n",
       "      padding: 0 0 0 0;\n",
       "      width: 32px;\n",
       "    }\n",
       "\n",
       "    .colab-df-convert:hover {\n",
       "      background-color: #E2EBFA;\n",
       "      box-shadow: 0px 1px 2px rgba(60, 64, 67, 0.3), 0px 1px 3px 1px rgba(60, 64, 67, 0.15);\n",
       "      fill: #174EA6;\n",
       "    }\n",
       "\n",
       "    [theme=dark] .colab-df-convert {\n",
       "      background-color: #3B4455;\n",
       "      fill: #D2E3FC;\n",
       "    }\n",
       "\n",
       "    [theme=dark] .colab-df-convert:hover {\n",
       "      background-color: #434B5C;\n",
       "      box-shadow: 0px 1px 3px 1px rgba(0, 0, 0, 0.15);\n",
       "      filter: drop-shadow(0px 1px 2px rgba(0, 0, 0, 0.3));\n",
       "      fill: #FFFFFF;\n",
       "    }\n",
       "  </style>\n",
       "\n",
       "      <script>\n",
       "        const buttonEl =\n",
       "          document.querySelector('#df-d9270042-4e55-4bc2-8c09-e4ecd6e20fa3 button.colab-df-convert');\n",
       "        buttonEl.style.display =\n",
       "          google.colab.kernel.accessAllowed ? 'block' : 'none';\n",
       "\n",
       "        async function convertToInteractive(key) {\n",
       "          const element = document.querySelector('#df-d9270042-4e55-4bc2-8c09-e4ecd6e20fa3');\n",
       "          const dataTable =\n",
       "            await google.colab.kernel.invokeFunction('convertToInteractive',\n",
       "                                                     [key], {});\n",
       "          if (!dataTable) return;\n",
       "\n",
       "          const docLinkHtml = 'Like what you see? Visit the ' +\n",
       "            '<a target=\"_blank\" href=https://colab.research.google.com/notebooks/data_table.ipynb>data table notebook</a>'\n",
       "            + ' to learn more about interactive tables.';\n",
       "          element.innerHTML = '';\n",
       "          dataTable['output_type'] = 'display_data';\n",
       "          await google.colab.output.renderOutput(dataTable, element);\n",
       "          const docLink = document.createElement('div');\n",
       "          docLink.innerHTML = docLinkHtml;\n",
       "          element.appendChild(docLink);\n",
       "        }\n",
       "      </script>\n",
       "    </div>\n",
       "  </div>\n",
       "  "
      ],
      "text/plain": [
       "                                                text  ...                                text_wo_punctuation\n",
       "0                      cindy bkt kw masaya k n???     ...                         cindy bkt kw masaya k n   \n",
       "1         This is the start of starting over........  ...         this is the start of starting over i ne...\n",
       "2         Today has been quite an eye opener. Eri...  ...         today has been quite an eye opener eric...\n",
       "3         Its Sunday, wasnt it just Sunday the da...  ...         its sunday wasnt it just sunday the day...\n",
       "4         Last night i came home after work and w...  ...         last night i came home after work and w...\n",
       "\n",
       "[5 rows x 3 columns]"
      ]
     },
     "execution_count": 24,
     "metadata": {},
     "output_type": "execute_result"
    }
   ],
   "source": [
    "PUNCT_TO_REMOVE = string.punctuation\n",
    "def remove_punctuation(text):\n",
    "    return text.translate(str.maketrans('','',PUNCT_TO_REMOVE))\n",
    "                                        \n",
    "df[\"text_wo_punctuation\"] = df[\"text_lower\"].apply(lambda text: remove_punctuation(text))\n",
    "df.head()"
   ]
  },
  {
   "cell_type": "markdown",
   "metadata": {
    "id": "gmr2tk-9jGus"
   },
   "source": [
    "### Removal of stopwords"
   ]
  },
  {
   "cell_type": "code",
   "execution_count": null,
   "metadata": {
    "colab": {
     "base_uri": "https://localhost:8080/",
     "height": 122
    },
    "id": "v8VrHTVNjGut",
    "outputId": "48d615bb-b03a-4fca-83a6-607aa1f4e2ee"
   },
   "outputs": [
    {
     "data": {
      "application/vnd.google.colaboratory.intrinsic+json": {
       "type": "string"
      },
      "text/plain": [
       "\"i, me, my, myself, we, our, ours, ourselves, you, you're, you've, you'll, you'd, your, yours, yourself, yourselves, he, him, his, himself, she, she's, her, hers, herself, it, it's, its, itself, they, them, their, theirs, themselves, what, which, who, whom, this, that, that'll, these, those, am, is, are, was, were, be, been, being, have, has, had, having, do, does, did, doing, a, an, the, and, but, if, or, because, as, until, while, of, at, by, for, with, about, against, between, into, through, during, before, after, above, below, to, from, up, down, in, out, on, off, over, under, again, further, then, once, here, there, when, where, why, how, all, any, both, each, few, more, most, other, some, such, no, nor, not, only, own, same, so, than, too, very, s, t, can, will, just, don, don't, should, should've, now, d, ll, m, o, re, ve, y, ain, aren, aren't, couldn, couldn't, didn, didn't, doesn, doesn't, hadn, hadn't, hasn, hasn't, haven, haven't, isn, isn't, ma, mightn, mightn't, mustn, mustn't, needn, needn't, shan, shan't, shouldn, shouldn't, wasn, wasn't, weren, weren't, won, won't, wouldn, wouldn't\""
      ]
     },
     "execution_count": 25,
     "metadata": {},
     "output_type": "execute_result"
    }
   ],
   "source": [
    "from nltk.corpus import stopwords\n",
    "\", \".join(stopwords.words('english'))"
   ]
  },
  {
   "cell_type": "code",
   "execution_count": null,
   "metadata": {
    "colab": {
     "base_uri": "https://localhost:8080/",
     "height": 200
    },
    "id": "H0Rkl3c4jGut",
    "outputId": "8ff79c44-c71b-46f4-dcad-78d2bc60108f"
   },
   "outputs": [
    {
     "data": {
      "text/html": [
       "\n",
       "  <div id=\"df-daf7f422-c9b5-4a64-9327-7ae93eac22c6\">\n",
       "    <div class=\"colab-df-container\">\n",
       "      <div>\n",
       "<style scoped>\n",
       "    .dataframe tbody tr th:only-of-type {\n",
       "        vertical-align: middle;\n",
       "    }\n",
       "\n",
       "    .dataframe tbody tr th {\n",
       "        vertical-align: top;\n",
       "    }\n",
       "\n",
       "    .dataframe thead th {\n",
       "        text-align: right;\n",
       "    }\n",
       "</style>\n",
       "<table border=\"1\" class=\"dataframe\">\n",
       "  <thead>\n",
       "    <tr style=\"text-align: right;\">\n",
       "      <th></th>\n",
       "      <th>text</th>\n",
       "      <th>text_lower</th>\n",
       "      <th>text_wo_punctuation</th>\n",
       "      <th>text_wo_stop</th>\n",
       "    </tr>\n",
       "  </thead>\n",
       "  <tbody>\n",
       "    <tr>\n",
       "      <th>0</th>\n",
       "      <td>cindy bkt kw masaya k n???</td>\n",
       "      <td>cindy bkt kw masaya k n???</td>\n",
       "      <td>cindy bkt kw masaya k n</td>\n",
       "      <td>cindy bkt kw masaya k n</td>\n",
       "    </tr>\n",
       "    <tr>\n",
       "      <th>1</th>\n",
       "      <td>This is the start of starting over........</td>\n",
       "      <td>this is the start of starting over........</td>\n",
       "      <td>this is the start of starting over i ne...</td>\n",
       "      <td>start starting neglected mind write thoughts t...</td>\n",
       "    </tr>\n",
       "    <tr>\n",
       "      <th>2</th>\n",
       "      <td>Today has been quite an eye opener. Eri...</td>\n",
       "      <td>today has been quite an eye opener. eri...</td>\n",
       "      <td>today has been quite an eye opener eric...</td>\n",
       "      <td>today quite eye opener eric jason went eat lun...</td>\n",
       "    </tr>\n",
       "    <tr>\n",
       "      <th>3</th>\n",
       "      <td>Its Sunday, wasnt it just Sunday the da...</td>\n",
       "      <td>its sunday, wasnt it just sunday the da...</td>\n",
       "      <td>its sunday wasnt it just sunday the day...</td>\n",
       "      <td>sunday wasnt sunday day yesterday ah well get ...</td>\n",
       "    </tr>\n",
       "    <tr>\n",
       "      <th>4</th>\n",
       "      <td>Last night i came home after work and w...</td>\n",
       "      <td>last night i came home after work and w...</td>\n",
       "      <td>last night i came home after work and w...</td>\n",
       "      <td>last night came home work watched tube awhile ...</td>\n",
       "    </tr>\n",
       "  </tbody>\n",
       "</table>\n",
       "</div>\n",
       "      <button class=\"colab-df-convert\" onclick=\"convertToInteractive('df-daf7f422-c9b5-4a64-9327-7ae93eac22c6')\"\n",
       "              title=\"Convert this dataframe to an interactive table.\"\n",
       "              style=\"display:none;\">\n",
       "        \n",
       "  <svg xmlns=\"http://www.w3.org/2000/svg\" height=\"24px\"viewBox=\"0 0 24 24\"\n",
       "       width=\"24px\">\n",
       "    <path d=\"M0 0h24v24H0V0z\" fill=\"none\"/>\n",
       "    <path d=\"M18.56 5.44l.94 2.06.94-2.06 2.06-.94-2.06-.94-.94-2.06-.94 2.06-2.06.94zm-11 1L8.5 8.5l.94-2.06 2.06-.94-2.06-.94L8.5 2.5l-.94 2.06-2.06.94zm10 10l.94 2.06.94-2.06 2.06-.94-2.06-.94-.94-2.06-.94 2.06-2.06.94z\"/><path d=\"M17.41 7.96l-1.37-1.37c-.4-.4-.92-.59-1.43-.59-.52 0-1.04.2-1.43.59L10.3 9.45l-7.72 7.72c-.78.78-.78 2.05 0 2.83L4 21.41c.39.39.9.59 1.41.59.51 0 1.02-.2 1.41-.59l7.78-7.78 2.81-2.81c.8-.78.8-2.07 0-2.86zM5.41 20L4 18.59l7.72-7.72 1.47 1.35L5.41 20z\"/>\n",
       "  </svg>\n",
       "      </button>\n",
       "      \n",
       "  <style>\n",
       "    .colab-df-container {\n",
       "      display:flex;\n",
       "      flex-wrap:wrap;\n",
       "      gap: 12px;\n",
       "    }\n",
       "\n",
       "    .colab-df-convert {\n",
       "      background-color: #E8F0FE;\n",
       "      border: none;\n",
       "      border-radius: 50%;\n",
       "      cursor: pointer;\n",
       "      display: none;\n",
       "      fill: #1967D2;\n",
       "      height: 32px;\n",
       "      padding: 0 0 0 0;\n",
       "      width: 32px;\n",
       "    }\n",
       "\n",
       "    .colab-df-convert:hover {\n",
       "      background-color: #E2EBFA;\n",
       "      box-shadow: 0px 1px 2px rgba(60, 64, 67, 0.3), 0px 1px 3px 1px rgba(60, 64, 67, 0.15);\n",
       "      fill: #174EA6;\n",
       "    }\n",
       "\n",
       "    [theme=dark] .colab-df-convert {\n",
       "      background-color: #3B4455;\n",
       "      fill: #D2E3FC;\n",
       "    }\n",
       "\n",
       "    [theme=dark] .colab-df-convert:hover {\n",
       "      background-color: #434B5C;\n",
       "      box-shadow: 0px 1px 3px 1px rgba(0, 0, 0, 0.15);\n",
       "      filter: drop-shadow(0px 1px 2px rgba(0, 0, 0, 0.3));\n",
       "      fill: #FFFFFF;\n",
       "    }\n",
       "  </style>\n",
       "\n",
       "      <script>\n",
       "        const buttonEl =\n",
       "          document.querySelector('#df-daf7f422-c9b5-4a64-9327-7ae93eac22c6 button.colab-df-convert');\n",
       "        buttonEl.style.display =\n",
       "          google.colab.kernel.accessAllowed ? 'block' : 'none';\n",
       "\n",
       "        async function convertToInteractive(key) {\n",
       "          const element = document.querySelector('#df-daf7f422-c9b5-4a64-9327-7ae93eac22c6');\n",
       "          const dataTable =\n",
       "            await google.colab.kernel.invokeFunction('convertToInteractive',\n",
       "                                                     [key], {});\n",
       "          if (!dataTable) return;\n",
       "\n",
       "          const docLinkHtml = 'Like what you see? Visit the ' +\n",
       "            '<a target=\"_blank\" href=https://colab.research.google.com/notebooks/data_table.ipynb>data table notebook</a>'\n",
       "            + ' to learn more about interactive tables.';\n",
       "          element.innerHTML = '';\n",
       "          dataTable['output_type'] = 'display_data';\n",
       "          await google.colab.output.renderOutput(dataTable, element);\n",
       "          const docLink = document.createElement('div');\n",
       "          docLink.innerHTML = docLinkHtml;\n",
       "          element.appendChild(docLink);\n",
       "        }\n",
       "      </script>\n",
       "    </div>\n",
       "  </div>\n",
       "  "
      ],
      "text/plain": [
       "                                                text  ...                                       text_wo_stop\n",
       "0                      cindy bkt kw masaya k n???     ...                            cindy bkt kw masaya k n\n",
       "1         This is the start of starting over........  ...  start starting neglected mind write thoughts t...\n",
       "2         Today has been quite an eye opener. Eri...  ...  today quite eye opener eric jason went eat lun...\n",
       "3         Its Sunday, wasnt it just Sunday the da...  ...  sunday wasnt sunday day yesterday ah well get ...\n",
       "4         Last night i came home after work and w...  ...  last night came home work watched tube awhile ...\n",
       "\n",
       "[5 rows x 4 columns]"
      ]
     },
     "execution_count": 26,
     "metadata": {},
     "output_type": "execute_result"
    }
   ],
   "source": [
    "STOPWORDS = set(stopwords.words('english'))\n",
    "\n",
    "def remove_stopwords(text):\n",
    "    return \" \".join([word for word in str(text).split() if word not in STOPWORDS])\n",
    "\n",
    "df[\"text_wo_stop\"] = df[\"text_wo_punctuation\"].apply(lambda text : remove_stopwords(text))\n",
    "df.head()"
   ]
  },
  {
   "cell_type": "code",
   "execution_count": null,
   "metadata": {
    "id": "J1JqWfMijGut"
   },
   "outputs": [],
   "source": [
    "# Pipeline the pre-processing \n",
    "def clean_text(text):\n",
    "    text = text.strip()\n",
    "    text = remove_punctuation(text)\n",
    "    text = remove_stopwords(text)\n",
    "    text = text.lower()\n",
    "    return text\n",
    "new_data[\"text\"] = new_data[\"text\"].map(lambda text : clean_text(text))"
   ]
  },
  {
   "cell_type": "code",
   "execution_count": null,
   "metadata": {
    "colab": {
     "base_uri": "https://localhost:8080/",
     "height": 200
    },
    "id": "txI4dmg6jGuu",
    "outputId": "552ed2da-9b2b-432d-93a5-10c5d968ca23"
   },
   "outputs": [
    {
     "data": {
      "text/html": [
       "\n",
       "  <div id=\"df-efee43da-fdf4-4a5d-b806-6d2e9b43fbbf\">\n",
       "    <div class=\"colab-df-container\">\n",
       "      <div>\n",
       "<style scoped>\n",
       "    .dataframe tbody tr th:only-of-type {\n",
       "        vertical-align: middle;\n",
       "    }\n",
       "\n",
       "    .dataframe tbody tr th {\n",
       "        vertical-align: top;\n",
       "    }\n",
       "\n",
       "    .dataframe thead th {\n",
       "        text-align: right;\n",
       "    }\n",
       "</style>\n",
       "<table border=\"1\" class=\"dataframe\">\n",
       "  <thead>\n",
       "    <tr style=\"text-align: right;\">\n",
       "      <th></th>\n",
       "      <th>index</th>\n",
       "      <th>gender</th>\n",
       "      <th>age</th>\n",
       "      <th>topic</th>\n",
       "      <th>sign</th>\n",
       "      <th>text</th>\n",
       "    </tr>\n",
       "  </thead>\n",
       "  <tbody>\n",
       "    <tr>\n",
       "      <th>0</th>\n",
       "      <td>265295</td>\n",
       "      <td>female</td>\n",
       "      <td>16</td>\n",
       "      <td>Accounting</td>\n",
       "      <td>Aquarius</td>\n",
       "      <td>cindy bkt kw masaya k n</td>\n",
       "    </tr>\n",
       "    <tr>\n",
       "      <th>1</th>\n",
       "      <td>299941</td>\n",
       "      <td>female</td>\n",
       "      <td>24</td>\n",
       "      <td>Accounting</td>\n",
       "      <td>Aquarius</td>\n",
       "      <td>this start starting i neglected mind write tho...</td>\n",
       "    </tr>\n",
       "    <tr>\n",
       "      <th>2</th>\n",
       "      <td>608428</td>\n",
       "      <td>female</td>\n",
       "      <td>24</td>\n",
       "      <td>Accounting</td>\n",
       "      <td>Aquarius</td>\n",
       "      <td>today quite eye opener eric jason i went eat l...</td>\n",
       "    </tr>\n",
       "    <tr>\n",
       "      <th>3</th>\n",
       "      <td>110820</td>\n",
       "      <td>female</td>\n",
       "      <td>24</td>\n",
       "      <td>Accounting</td>\n",
       "      <td>Aquarius</td>\n",
       "      <td>its sunday wasnt sunday day yesterday ah well ...</td>\n",
       "    </tr>\n",
       "    <tr>\n",
       "      <th>4</th>\n",
       "      <td>532603</td>\n",
       "      <td>female</td>\n",
       "      <td>24</td>\n",
       "      <td>Accounting</td>\n",
       "      <td>Aquarius</td>\n",
       "      <td>last night came home work watched tube awhile ...</td>\n",
       "    </tr>\n",
       "  </tbody>\n",
       "</table>\n",
       "</div>\n",
       "      <button class=\"colab-df-convert\" onclick=\"convertToInteractive('df-efee43da-fdf4-4a5d-b806-6d2e9b43fbbf')\"\n",
       "              title=\"Convert this dataframe to an interactive table.\"\n",
       "              style=\"display:none;\">\n",
       "        \n",
       "  <svg xmlns=\"http://www.w3.org/2000/svg\" height=\"24px\"viewBox=\"0 0 24 24\"\n",
       "       width=\"24px\">\n",
       "    <path d=\"M0 0h24v24H0V0z\" fill=\"none\"/>\n",
       "    <path d=\"M18.56 5.44l.94 2.06.94-2.06 2.06-.94-2.06-.94-.94-2.06-.94 2.06-2.06.94zm-11 1L8.5 8.5l.94-2.06 2.06-.94-2.06-.94L8.5 2.5l-.94 2.06-2.06.94zm10 10l.94 2.06.94-2.06 2.06-.94-2.06-.94-.94-2.06-.94 2.06-2.06.94z\"/><path d=\"M17.41 7.96l-1.37-1.37c-.4-.4-.92-.59-1.43-.59-.52 0-1.04.2-1.43.59L10.3 9.45l-7.72 7.72c-.78.78-.78 2.05 0 2.83L4 21.41c.39.39.9.59 1.41.59.51 0 1.02-.2 1.41-.59l7.78-7.78 2.81-2.81c.8-.78.8-2.07 0-2.86zM5.41 20L4 18.59l7.72-7.72 1.47 1.35L5.41 20z\"/>\n",
       "  </svg>\n",
       "      </button>\n",
       "      \n",
       "  <style>\n",
       "    .colab-df-container {\n",
       "      display:flex;\n",
       "      flex-wrap:wrap;\n",
       "      gap: 12px;\n",
       "    }\n",
       "\n",
       "    .colab-df-convert {\n",
       "      background-color: #E8F0FE;\n",
       "      border: none;\n",
       "      border-radius: 50%;\n",
       "      cursor: pointer;\n",
       "      display: none;\n",
       "      fill: #1967D2;\n",
       "      height: 32px;\n",
       "      padding: 0 0 0 0;\n",
       "      width: 32px;\n",
       "    }\n",
       "\n",
       "    .colab-df-convert:hover {\n",
       "      background-color: #E2EBFA;\n",
       "      box-shadow: 0px 1px 2px rgba(60, 64, 67, 0.3), 0px 1px 3px 1px rgba(60, 64, 67, 0.15);\n",
       "      fill: #174EA6;\n",
       "    }\n",
       "\n",
       "    [theme=dark] .colab-df-convert {\n",
       "      background-color: #3B4455;\n",
       "      fill: #D2E3FC;\n",
       "    }\n",
       "\n",
       "    [theme=dark] .colab-df-convert:hover {\n",
       "      background-color: #434B5C;\n",
       "      box-shadow: 0px 1px 3px 1px rgba(0, 0, 0, 0.15);\n",
       "      filter: drop-shadow(0px 1px 2px rgba(0, 0, 0, 0.3));\n",
       "      fill: #FFFFFF;\n",
       "    }\n",
       "  </style>\n",
       "\n",
       "      <script>\n",
       "        const buttonEl =\n",
       "          document.querySelector('#df-efee43da-fdf4-4a5d-b806-6d2e9b43fbbf button.colab-df-convert');\n",
       "        buttonEl.style.display =\n",
       "          google.colab.kernel.accessAllowed ? 'block' : 'none';\n",
       "\n",
       "        async function convertToInteractive(key) {\n",
       "          const element = document.querySelector('#df-efee43da-fdf4-4a5d-b806-6d2e9b43fbbf');\n",
       "          const dataTable =\n",
       "            await google.colab.kernel.invokeFunction('convertToInteractive',\n",
       "                                                     [key], {});\n",
       "          if (!dataTable) return;\n",
       "\n",
       "          const docLinkHtml = 'Like what you see? Visit the ' +\n",
       "            '<a target=\"_blank\" href=https://colab.research.google.com/notebooks/data_table.ipynb>data table notebook</a>'\n",
       "            + ' to learn more about interactive tables.';\n",
       "          element.innerHTML = '';\n",
       "          dataTable['output_type'] = 'display_data';\n",
       "          await google.colab.output.renderOutput(dataTable, element);\n",
       "          const docLink = document.createElement('div');\n",
       "          docLink.innerHTML = docLinkHtml;\n",
       "          element.appendChild(docLink);\n",
       "        }\n",
       "      </script>\n",
       "    </div>\n",
       "  </div>\n",
       "  "
      ],
      "text/plain": [
       "    index  gender  ...      sign                                               text\n",
       "0  265295  female  ...  Aquarius                            cindy bkt kw masaya k n\n",
       "1  299941  female  ...  Aquarius  this start starting i neglected mind write tho...\n",
       "2  608428  female  ...  Aquarius  today quite eye opener eric jason i went eat l...\n",
       "3  110820  female  ...  Aquarius  its sunday wasnt sunday day yesterday ah well ...\n",
       "4  532603  female  ...  Aquarius  last night came home work watched tube awhile ...\n",
       "\n",
       "[5 rows x 6 columns]"
      ]
     },
     "execution_count": 28,
     "metadata": {},
     "output_type": "execute_result"
    }
   ],
   "source": [
    "new_data.head()"
   ]
  },
  {
   "cell_type": "code",
   "execution_count": null,
   "metadata": {
    "colab": {
     "base_uri": "https://localhost:8080/",
     "height": 309
    },
    "id": "mzL8c_cBjGuu",
    "outputId": "d49e40da-844a-4201-b8c0-5d662d3de670"
   },
   "outputs": [
    {
     "data": {
      "text/html": [
       "\n",
       "  <div id=\"df-e27f7b3b-1a0f-4115-a91d-3c1678e9ab7b\">\n",
       "    <div class=\"colab-df-container\">\n",
       "      <div>\n",
       "<style scoped>\n",
       "    .dataframe tbody tr th:only-of-type {\n",
       "        vertical-align: middle;\n",
       "    }\n",
       "\n",
       "    .dataframe tbody tr th {\n",
       "        vertical-align: top;\n",
       "    }\n",
       "\n",
       "    .dataframe thead th {\n",
       "        text-align: right;\n",
       "    }\n",
       "</style>\n",
       "<table border=\"1\" class=\"dataframe\">\n",
       "  <thead>\n",
       "    <tr style=\"text-align: right;\">\n",
       "      <th></th>\n",
       "      <th>0</th>\n",
       "      <th>1</th>\n",
       "      <th>2</th>\n",
       "      <th>3</th>\n",
       "      <th>4</th>\n",
       "      <th>5</th>\n",
       "      <th>6</th>\n",
       "      <th>7</th>\n",
       "      <th>8</th>\n",
       "      <th>9</th>\n",
       "    </tr>\n",
       "  </thead>\n",
       "  <tbody>\n",
       "    <tr>\n",
       "      <th>index</th>\n",
       "      <td>265295</td>\n",
       "      <td>299941</td>\n",
       "      <td>608428</td>\n",
       "      <td>110820</td>\n",
       "      <td>532603</td>\n",
       "      <td>585734</td>\n",
       "      <td>179181</td>\n",
       "      <td>266851</td>\n",
       "      <td>283048</td>\n",
       "      <td>675417</td>\n",
       "    </tr>\n",
       "    <tr>\n",
       "      <th>gender</th>\n",
       "      <td>female</td>\n",
       "      <td>female</td>\n",
       "      <td>female</td>\n",
       "      <td>female</td>\n",
       "      <td>female</td>\n",
       "      <td>female</td>\n",
       "      <td>female</td>\n",
       "      <td>female</td>\n",
       "      <td>female</td>\n",
       "      <td>female</td>\n",
       "    </tr>\n",
       "    <tr>\n",
       "      <th>age</th>\n",
       "      <td>16</td>\n",
       "      <td>24</td>\n",
       "      <td>24</td>\n",
       "      <td>24</td>\n",
       "      <td>24</td>\n",
       "      <td>24</td>\n",
       "      <td>24</td>\n",
       "      <td>24</td>\n",
       "      <td>24</td>\n",
       "      <td>24</td>\n",
       "    </tr>\n",
       "    <tr>\n",
       "      <th>topic</th>\n",
       "      <td>Accounting</td>\n",
       "      <td>Accounting</td>\n",
       "      <td>Accounting</td>\n",
       "      <td>Accounting</td>\n",
       "      <td>Accounting</td>\n",
       "      <td>Accounting</td>\n",
       "      <td>Accounting</td>\n",
       "      <td>Accounting</td>\n",
       "      <td>Accounting</td>\n",
       "      <td>Accounting</td>\n",
       "    </tr>\n",
       "    <tr>\n",
       "      <th>sign</th>\n",
       "      <td>Aquarius</td>\n",
       "      <td>Aquarius</td>\n",
       "      <td>Aquarius</td>\n",
       "      <td>Aquarius</td>\n",
       "      <td>Aquarius</td>\n",
       "      <td>Aquarius</td>\n",
       "      <td>Aquarius</td>\n",
       "      <td>Aquarius</td>\n",
       "      <td>Aquarius</td>\n",
       "      <td>Aquarius</td>\n",
       "    </tr>\n",
       "    <tr>\n",
       "      <th>text</th>\n",
       "      <td>cindy bkt kw masaya k n</td>\n",
       "      <td>this start starting i neglected mind write tho...</td>\n",
       "      <td>today quite eye opener eric jason i went eat l...</td>\n",
       "      <td>its sunday wasnt sunday day yesterday ah well ...</td>\n",
       "      <td>last night came home work watched tube awhile ...</td>\n",
       "      <td>urllink pics</td>\n",
       "      <td>the last couple days bitch half i idea brought...</td>\n",
       "      <td>urllink me mom horse racesnbsp urllink</td>\n",
       "      <td>holy crap really long since posted spankings l...</td>\n",
       "      <td>urllink porchnbsp urllink</td>\n",
       "    </tr>\n",
       "  </tbody>\n",
       "</table>\n",
       "</div>\n",
       "      <button class=\"colab-df-convert\" onclick=\"convertToInteractive('df-e27f7b3b-1a0f-4115-a91d-3c1678e9ab7b')\"\n",
       "              title=\"Convert this dataframe to an interactive table.\"\n",
       "              style=\"display:none;\">\n",
       "        \n",
       "  <svg xmlns=\"http://www.w3.org/2000/svg\" height=\"24px\"viewBox=\"0 0 24 24\"\n",
       "       width=\"24px\">\n",
       "    <path d=\"M0 0h24v24H0V0z\" fill=\"none\"/>\n",
       "    <path d=\"M18.56 5.44l.94 2.06.94-2.06 2.06-.94-2.06-.94-.94-2.06-.94 2.06-2.06.94zm-11 1L8.5 8.5l.94-2.06 2.06-.94-2.06-.94L8.5 2.5l-.94 2.06-2.06.94zm10 10l.94 2.06.94-2.06 2.06-.94-2.06-.94-.94-2.06-.94 2.06-2.06.94z\"/><path d=\"M17.41 7.96l-1.37-1.37c-.4-.4-.92-.59-1.43-.59-.52 0-1.04.2-1.43.59L10.3 9.45l-7.72 7.72c-.78.78-.78 2.05 0 2.83L4 21.41c.39.39.9.59 1.41.59.51 0 1.02-.2 1.41-.59l7.78-7.78 2.81-2.81c.8-.78.8-2.07 0-2.86zM5.41 20L4 18.59l7.72-7.72 1.47 1.35L5.41 20z\"/>\n",
       "  </svg>\n",
       "      </button>\n",
       "      \n",
       "  <style>\n",
       "    .colab-df-container {\n",
       "      display:flex;\n",
       "      flex-wrap:wrap;\n",
       "      gap: 12px;\n",
       "    }\n",
       "\n",
       "    .colab-df-convert {\n",
       "      background-color: #E8F0FE;\n",
       "      border: none;\n",
       "      border-radius: 50%;\n",
       "      cursor: pointer;\n",
       "      display: none;\n",
       "      fill: #1967D2;\n",
       "      height: 32px;\n",
       "      padding: 0 0 0 0;\n",
       "      width: 32px;\n",
       "    }\n",
       "\n",
       "    .colab-df-convert:hover {\n",
       "      background-color: #E2EBFA;\n",
       "      box-shadow: 0px 1px 2px rgba(60, 64, 67, 0.3), 0px 1px 3px 1px rgba(60, 64, 67, 0.15);\n",
       "      fill: #174EA6;\n",
       "    }\n",
       "\n",
       "    [theme=dark] .colab-df-convert {\n",
       "      background-color: #3B4455;\n",
       "      fill: #D2E3FC;\n",
       "    }\n",
       "\n",
       "    [theme=dark] .colab-df-convert:hover {\n",
       "      background-color: #434B5C;\n",
       "      box-shadow: 0px 1px 3px 1px rgba(0, 0, 0, 0.15);\n",
       "      filter: drop-shadow(0px 1px 2px rgba(0, 0, 0, 0.3));\n",
       "      fill: #FFFFFF;\n",
       "    }\n",
       "  </style>\n",
       "\n",
       "      <script>\n",
       "        const buttonEl =\n",
       "          document.querySelector('#df-e27f7b3b-1a0f-4115-a91d-3c1678e9ab7b button.colab-df-convert');\n",
       "        buttonEl.style.display =\n",
       "          google.colab.kernel.accessAllowed ? 'block' : 'none';\n",
       "\n",
       "        async function convertToInteractive(key) {\n",
       "          const element = document.querySelector('#df-e27f7b3b-1a0f-4115-a91d-3c1678e9ab7b');\n",
       "          const dataTable =\n",
       "            await google.colab.kernel.invokeFunction('convertToInteractive',\n",
       "                                                     [key], {});\n",
       "          if (!dataTable) return;\n",
       "\n",
       "          const docLinkHtml = 'Like what you see? Visit the ' +\n",
       "            '<a target=\"_blank\" href=https://colab.research.google.com/notebooks/data_table.ipynb>data table notebook</a>'\n",
       "            + ' to learn more about interactive tables.';\n",
       "          element.innerHTML = '';\n",
       "          dataTable['output_type'] = 'display_data';\n",
       "          await google.colab.output.renderOutput(dataTable, element);\n",
       "          const docLink = document.createElement('div');\n",
       "          docLink.innerHTML = docLinkHtml;\n",
       "          element.appendChild(docLink);\n",
       "        }\n",
       "      </script>\n",
       "    </div>\n",
       "  </div>\n",
       "  "
      ],
      "text/plain": [
       "                              0  ...                          9\n",
       "index                    265295  ...                     675417\n",
       "gender                   female  ...                     female\n",
       "age                          16  ...                         24\n",
       "topic                Accounting  ...                 Accounting\n",
       "sign                   Aquarius  ...                   Aquarius\n",
       "text    cindy bkt kw masaya k n  ...  urllink porchnbsp urllink\n",
       "\n",
       "[6 rows x 10 columns]"
      ]
     },
     "execution_count": 29,
     "metadata": {},
     "output_type": "execute_result"
    }
   ],
   "source": [
    "pd.set_option('display.max_colwidth', 50)\n",
    "new_data.head(10).T"
   ]
  },
  {
   "cell_type": "code",
   "execution_count": null,
   "metadata": {
    "colab": {
     "base_uri": "https://localhost:8080/"
    },
    "id": "QGR8hHGljGuv",
    "outputId": "e497032c-c5cb-4fe6-b9cd-6c2387ef2500"
   },
   "outputs": [
    {
     "data": {
      "text/plain": [
       "False"
      ]
     },
     "execution_count": 30,
     "metadata": {},
     "output_type": "execute_result"
    }
   ],
   "source": [
    "new_data.isnull().any().any() "
   ]
  },
  {
   "cell_type": "code",
   "execution_count": null,
   "metadata": {
    "colab": {
     "base_uri": "https://localhost:8080/"
    },
    "id": "1aOOL3fQjGuw",
    "outputId": "49ce4a78-a462-4e84-8a22-b950eed42d88"
   },
   "outputs": [
    {
     "data": {
      "text/plain": [
       "male      20179\n",
       "female    19663\n",
       "Name: gender, dtype: int64"
      ]
     },
     "execution_count": 31,
     "metadata": {},
     "output_type": "execute_result"
    }
   ],
   "source": [
    "new_data.gender.value_counts()"
   ]
  },
  {
   "cell_type": "code",
   "execution_count": null,
   "metadata": {
    "colab": {
     "base_uri": "https://localhost:8080/",
     "height": 285
    },
    "id": "qGdo75PYjGuw",
    "outputId": "498732d2-8c3d-4a10-b601-7d15cfeb4bb9"
   },
   "outputs": [
    {
     "data": {
      "image/png": "[encoded data removed]",
      "text/plain": [
       "<Figure size 432x288 with 1 Axes>"
      ]
     },
     "metadata": {
      "needs_background": "light"
     },
     "output_type": "display_data"
    }
   ],
   "source": [
    "sns.countplot(x=\"age\", data=new_data);"
   ]
  },
  {
   "cell_type": "code",
   "execution_count": null,
   "metadata": {
    "colab": {
     "base_uri": "https://localhost:8080/",
     "height": 285
    },
    "id": "Tjrp15z9jGuw",
    "outputId": "5c403ede-398f-4578-c5c2-c7d9614ffb65"
   },
   "outputs": [
    {
     "data": {
      "image/png": "[encoded data removed]",
      "text/plain": [
       "<Figure size 432x288 with 1 Axes>"
      ]
     },
     "metadata": {
      "needs_background": "light"
     },
     "output_type": "display_data"
    }
   ],
   "source": [
    "sns.countplot(x=\"age\", hue=\"gender\", data=new_data);"
   ]
  },
  {
   "cell_type": "code",
   "execution_count": null,
   "metadata": {
    "colab": {
     "base_uri": "https://localhost:8080/",
     "height": 285
    },
    "id": "uYKVSMVLjGuw",
    "outputId": "f1f122d4-ee74-4571-87f4-a9518d5ebe97"
   },
   "outputs": [
    {
     "data": {
      "image/png": "[encoded data removed]",
      "text/plain": [
       "<Figure size 432x288 with 1 Axes>"
      ]
     },
     "metadata": {
      "needs_background": "light"
     },
     "output_type": "display_data"
    }
   ],
   "source": [
    "sns.countplot(x=\"topic\", hue=\"gender\", data=new_data);"
   ]
  },
  {
   "cell_type": "markdown",
   "metadata": {
    "id": "IoH98F8ajGux"
   },
   "source": [
    "## Merge labels for multi-label classification problem"
   ]
  },
  {
   "cell_type": "code",
   "execution_count": null,
   "metadata": {
    "id": "_9OS75RpjGux"
   },
   "outputs": [],
   "source": [
    "new_data[\"age\"] = new_data[\"age\"].astype(str)\n",
    "new_data[\"labels\"] = new_data.apply(lambda col :\n",
    "                            [col[\"gender\"],col[\"age\"],col[\"topic\"],col[\"sign\"]],axis =1)"
   ]
  },
  {
   "cell_type": "code",
   "execution_count": null,
   "metadata": {
    "colab": {
     "base_uri": "https://localhost:8080/"
    },
    "id": "xq0PdzuhjGux",
    "outputId": "2978d31c-a77b-44ad-db65-83c5a5510d1c"
   },
   "outputs": [
    {
     "data": {
      "text/plain": [
       "140"
      ]
     },
     "execution_count": 36,
     "metadata": {},
     "output_type": "execute_result"
    }
   ],
   "source": [
    "new_data.drop(columns=[\"gender\",\"age\",\"sign\",\"topic\"],axis =1, inplace = True)\n",
    "gc.collect()"
   ]
  },
  {
   "cell_type": "code",
   "execution_count": null,
   "metadata": {
    "colab": {
     "base_uri": "https://localhost:8080/",
     "height": 352
    },
    "id": "8hEiNDw4jGux",
    "outputId": "0c5eae30-3998-4877-8d71-7823b9d999b0"
   },
   "outputs": [
    {
     "data": {
      "text/html": [
       "\n",
       "  <div id=\"df-ea841736-727d-4ba6-a5ce-e281222e2275\">\n",
       "    <div class=\"colab-df-container\">\n",
       "      <div>\n",
       "<style scoped>\n",
       "    .dataframe tbody tr th:only-of-type {\n",
       "        vertical-align: middle;\n",
       "    }\n",
       "\n",
       "    .dataframe tbody tr th {\n",
       "        vertical-align: top;\n",
       "    }\n",
       "\n",
       "    .dataframe thead th {\n",
       "        text-align: right;\n",
       "    }\n",
       "</style>\n",
       "<table border=\"1\" class=\"dataframe\">\n",
       "  <thead>\n",
       "    <tr style=\"text-align: right;\">\n",
       "      <th></th>\n",
       "      <th>index</th>\n",
       "      <th>text</th>\n",
       "      <th>labels</th>\n",
       "    </tr>\n",
       "  </thead>\n",
       "  <tbody>\n",
       "    <tr>\n",
       "      <th>0</th>\n",
       "      <td>265295</td>\n",
       "      <td>cindy bkt kw masaya k n</td>\n",
       "      <td>[female, 16, Accounting, Aquarius]</td>\n",
       "    </tr>\n",
       "    <tr>\n",
       "      <th>1</th>\n",
       "      <td>299941</td>\n",
       "      <td>this start starting i neglected mind write tho...</td>\n",
       "      <td>[female, 24, Accounting, Aquarius]</td>\n",
       "    </tr>\n",
       "    <tr>\n",
       "      <th>2</th>\n",
       "      <td>608428</td>\n",
       "      <td>today quite eye opener eric jason i went eat l...</td>\n",
       "      <td>[female, 24, Accounting, Aquarius]</td>\n",
       "    </tr>\n",
       "    <tr>\n",
       "      <th>3</th>\n",
       "      <td>110820</td>\n",
       "      <td>its sunday wasnt sunday day yesterday ah well ...</td>\n",
       "      <td>[female, 24, Accounting, Aquarius]</td>\n",
       "    </tr>\n",
       "    <tr>\n",
       "      <th>4</th>\n",
       "      <td>532603</td>\n",
       "      <td>last night came home work watched tube awhile ...</td>\n",
       "      <td>[female, 24, Accounting, Aquarius]</td>\n",
       "    </tr>\n",
       "    <tr>\n",
       "      <th>5</th>\n",
       "      <td>585734</td>\n",
       "      <td>urllink pics</td>\n",
       "      <td>[female, 24, Accounting, Aquarius]</td>\n",
       "    </tr>\n",
       "    <tr>\n",
       "      <th>6</th>\n",
       "      <td>179181</td>\n",
       "      <td>the last couple days bitch half i idea brought...</td>\n",
       "      <td>[female, 24, Accounting, Aquarius]</td>\n",
       "    </tr>\n",
       "    <tr>\n",
       "      <th>7</th>\n",
       "      <td>266851</td>\n",
       "      <td>urllink me mom horse racesnbsp urllink</td>\n",
       "      <td>[female, 24, Accounting, Aquarius]</td>\n",
       "    </tr>\n",
       "    <tr>\n",
       "      <th>8</th>\n",
       "      <td>283048</td>\n",
       "      <td>holy crap really long since posted spankings l...</td>\n",
       "      <td>[female, 24, Accounting, Aquarius]</td>\n",
       "    </tr>\n",
       "    <tr>\n",
       "      <th>9</th>\n",
       "      <td>675417</td>\n",
       "      <td>urllink porchnbsp urllink</td>\n",
       "      <td>[female, 24, Accounting, Aquarius]</td>\n",
       "    </tr>\n",
       "  </tbody>\n",
       "</table>\n",
       "</div>\n",
       "      <button class=\"colab-df-convert\" onclick=\"convertToInteractive('df-ea841736-727d-4ba6-a5ce-e281222e2275')\"\n",
       "              title=\"Convert this dataframe to an interactive table.\"\n",
       "              style=\"display:none;\">\n",
       "        \n",
       "  <svg xmlns=\"http://www.w3.org/2000/svg\" height=\"24px\"viewBox=\"0 0 24 24\"\n",
       "       width=\"24px\">\n",
       "    <path d=\"M0 0h24v24H0V0z\" fill=\"none\"/>\n",
       "    <path d=\"M18.56 5.44l.94 2.06.94-2.06 2.06-.94-2.06-.94-.94-2.06-.94 2.06-2.06.94zm-11 1L8.5 8.5l.94-2.06 2.06-.94-2.06-.94L8.5 2.5l-.94 2.06-2.06.94zm10 10l.94 2.06.94-2.06 2.06-.94-2.06-.94-.94-2.06-.94 2.06-2.06.94z\"/><path d=\"M17.41 7.96l-1.37-1.37c-.4-.4-.92-.59-1.43-.59-.52 0-1.04.2-1.43.59L10.3 9.45l-7.72 7.72c-.78.78-.78 2.05 0 2.83L4 21.41c.39.39.9.59 1.41.59.51 0 1.02-.2 1.41-.59l7.78-7.78 2.81-2.81c.8-.78.8-2.07 0-2.86zM5.41 20L4 18.59l7.72-7.72 1.47 1.35L5.41 20z\"/>\n",
       "  </svg>\n",
       "      </button>\n",
       "      \n",
       "  <style>\n",
       "    .colab-df-container {\n",
       "      display:flex;\n",
       "      flex-wrap:wrap;\n",
       "      gap: 12px;\n",
       "    }\n",
       "\n",
       "    .colab-df-convert {\n",
       "      background-color: #E8F0FE;\n",
       "      border: none;\n",
       "      border-radius: 50%;\n",
       "      cursor: pointer;\n",
       "      display: none;\n",
       "      fill: #1967D2;\n",
       "      height: 32px;\n",
       "      padding: 0 0 0 0;\n",
       "      width: 32px;\n",
       "    }\n",
       "\n",
       "    .colab-df-convert:hover {\n",
       "      background-color: #E2EBFA;\n",
       "      box-shadow: 0px 1px 2px rgba(60, 64, 67, 0.3), 0px 1px 3px 1px rgba(60, 64, 67, 0.15);\n",
       "      fill: #174EA6;\n",
       "    }\n",
       "\n",
       "    [theme=dark] .colab-df-convert {\n",
       "      background-color: #3B4455;\n",
       "      fill: #D2E3FC;\n",
       "    }\n",
       "\n",
       "    [theme=dark] .colab-df-convert:hover {\n",
       "      background-color: #434B5C;\n",
       "      box-shadow: 0px 1px 3px 1px rgba(0, 0, 0, 0.15);\n",
       "      filter: drop-shadow(0px 1px 2px rgba(0, 0, 0, 0.3));\n",
       "      fill: #FFFFFF;\n",
       "    }\n",
       "  </style>\n",
       "\n",
       "      <script>\n",
       "        const buttonEl =\n",
       "          document.querySelector('#df-ea841736-727d-4ba6-a5ce-e281222e2275 button.colab-df-convert');\n",
       "        buttonEl.style.display =\n",
       "          google.colab.kernel.accessAllowed ? 'block' : 'none';\n",
       "\n",
       "        async function convertToInteractive(key) {\n",
       "          const element = document.querySelector('#df-ea841736-727d-4ba6-a5ce-e281222e2275');\n",
       "          const dataTable =\n",
       "            await google.colab.kernel.invokeFunction('convertToInteractive',\n",
       "                                                     [key], {});\n",
       "          if (!dataTable) return;\n",
       "\n",
       "          const docLinkHtml = 'Like what you see? Visit the ' +\n",
       "            '<a target=\"_blank\" href=https://colab.research.google.com/notebooks/data_table.ipynb>data table notebook</a>'\n",
       "            + ' to learn more about interactive tables.';\n",
       "          element.innerHTML = '';\n",
       "          dataTable['output_type'] = 'display_data';\n",
       "          await google.colab.output.renderOutput(dataTable, element);\n",
       "          const docLink = document.createElement('div');\n",
       "          docLink.innerHTML = docLinkHtml;\n",
       "          element.appendChild(docLink);\n",
       "        }\n",
       "      </script>\n",
       "    </div>\n",
       "  </div>\n",
       "  "
      ],
      "text/plain": [
       "    index  ...                              labels\n",
       "0  265295  ...  [female, 16, Accounting, Aquarius]\n",
       "1  299941  ...  [female, 24, Accounting, Aquarius]\n",
       "2  608428  ...  [female, 24, Accounting, Aquarius]\n",
       "3  110820  ...  [female, 24, Accounting, Aquarius]\n",
       "4  532603  ...  [female, 24, Accounting, Aquarius]\n",
       "5  585734  ...  [female, 24, Accounting, Aquarius]\n",
       "6  179181  ...  [female, 24, Accounting, Aquarius]\n",
       "7  266851  ...  [female, 24, Accounting, Aquarius]\n",
       "8  283048  ...  [female, 24, Accounting, Aquarius]\n",
       "9  675417  ...  [female, 24, Accounting, Aquarius]\n",
       "\n",
       "[10 rows x 3 columns]"
      ]
     },
     "execution_count": 37,
     "metadata": {},
     "output_type": "execute_result"
    }
   ],
   "source": [
    "new_data.head(10)"
   ]
  },
  {
   "cell_type": "markdown",
   "metadata": {
    "id": "ynHZJ58UjGux"
   },
   "source": [
    "## Create Train and Test dataset"
   ]
  },
  {
   "cell_type": "code",
   "execution_count": null,
   "metadata": {
    "id": "qBF8oQaGjGuy"
   },
   "outputs": [],
   "source": [
    "from sklearn.model_selection import train_test_split\n",
    "\n",
    "X = new_data.text\n",
    "y = new_data.labels\n",
    "\n",
    "X_train, X_test, y_train, y_test =train_test_split(X,y, random_state=42,\n",
    "                                                   test_size = 0.2,\n",
    "                                                  shuffle = True)"
   ]
  },
  {
   "cell_type": "code",
   "execution_count": null,
   "metadata": {
    "colab": {
     "base_uri": "https://localhost:8080/"
    },
    "id": "mxVV7bPYjGuy",
    "outputId": "71c9caba-cf57-4ea0-b7e9-1b836085c349"
   },
   "outputs": [
    {
     "name": "stdout",
     "output_type": "stream",
     "text": [
      "shape of training set : (31873,)\n",
      "shape of test set : (7969,)\n"
     ]
    }
   ],
   "source": [
    "print(\"shape of training set :\", X_train.shape)\n",
    "print(\"shape of test set :\", X_test.shape)"
   ]
  },
  {
   "cell_type": "markdown",
   "metadata": {
    "id": "GzilUN9rjGuy"
   },
   "source": [
    "## Vectorizing the features"
   ]
  },
  {
   "cell_type": "code",
   "execution_count": null,
   "metadata": {
    "id": "bZoUmhyxjGuy"
   },
   "outputs": [],
   "source": [
    "from sklearn.feature_extraction.text import TfidfVectorizer, CountVectorizer\n",
    "\n",
    "ctv = CountVectorizer(analyzer='word', token_pattern=r'\\w{1,}', \n",
    "                      ngram_range=(1, 2), stop_words = 'english')\n",
    "\n",
    "corpus = list(X_train)+list(X_test)"
   ]
  },
  {
   "cell_type": "code",
   "execution_count": null,
   "metadata": {
    "colab": {
     "base_uri": "https://localhost:8080/"
    },
    "id": "oF9jj804jGuy",
    "outputId": "0e464d69-0e58-4369-bf75-1d45f6a4911e"
   },
   "outputs": [
    {
     "data": {
      "text/plain": [
       "CountVectorizer(ngram_range=(1, 2), stop_words='english',\n",
       "                token_pattern='\\\\w{1,}')"
      ]
     },
     "execution_count": 46,
     "metadata": {},
     "output_type": "execute_result"
    }
   ],
   "source": [
    "ctv.fit(corpus)"
   ]
  },
  {
   "cell_type": "code",
   "execution_count": null,
   "metadata": {
    "id": "8ZgE2Ku2jGuz"
   },
   "outputs": [],
   "source": [
    "xtrain_ctv = ctv.transform(X_train)"
   ]
  },
  {
   "cell_type": "code",
   "execution_count": null,
   "metadata": {
    "id": "0QzRaw4gjGuz"
   },
   "outputs": [],
   "source": [
    "xtest_ctv = ctv.transform(X_test)"
   ]
  },
  {
   "cell_type": "code",
   "execution_count": null,
   "metadata": {
    "colab": {
     "base_uri": "https://localhost:8080/"
    },
    "id": "RODrAoC_jGuz",
    "outputId": "6e3fd987-3a94-471a-8346-2d1b09807db0"
   },
   "outputs": [
    {
     "name": "stdout",
     "output_type": "stream",
     "text": [
      "2571114\n"
     ]
    }
   ],
   "source": [
    "print(len(ctv.vocabulary_))"
   ]
  },
  {
   "cell_type": "code",
   "execution_count": null,
   "metadata": {
    "colab": {
     "base_uri": "https://localhost:8080/"
    },
    "id": "nwBMb_MgjGu2",
    "outputId": "7a7d3007-7529-47c7-8084-c8ca0a51c617"
   },
   "outputs": [
    {
     "name": "stderr",
     "output_type": "stream",
     "text": [
      "/usr/local/lib/python3.7/dist-packages/sklearn/utils/deprecation.py:87: FutureWarning: Function get_feature_names is deprecated; get_feature_names is deprecated in 1.0 and will be removed in 1.2. Please use get_feature_names_out instead.\n",
      "  warnings.warn(msg, category=FutureWarning)\n"
     ]
    },
    {
     "data": {
      "text/plain": [
       "['0',\n",
       " '0 0',\n",
       " '0 060',\n",
       " '0 1',\n",
       " '0 10px',\n",
       " '0 16',\n",
       " '0 175em',\n",
       " '0 1em',\n",
       " '0 1px',\n",
       " '0 2']"
      ]
     },
     "execution_count": 50,
     "metadata": {},
     "output_type": "execute_result"
    }
   ],
   "source": [
    "ctv.get_feature_names()[:10]"
   ]
  },
  {
   "cell_type": "markdown",
   "metadata": {
    "id": "pH4MHQa3jGu2"
   },
   "source": [
    "## Create a dictionary to get the count of every label"
   ]
  },
  {
   "cell_type": "code",
   "execution_count": null,
   "metadata": {
    "colab": {
     "base_uri": "https://localhost:8080/"
    },
    "id": "GHDCpnfRjGu3",
    "outputId": "c3e03892-045d-4866-a309-fbe854f79a9b"
   },
   "outputs": [
    {
     "data": {
      "text/plain": [
       "{'13': 769,\n",
       " '14': 1600,\n",
       " '15': 2452,\n",
       " '16': 4263,\n",
       " '17': 4742,\n",
       " '23': 4261,\n",
       " '24': 4703,\n",
       " '25': 3914,\n",
       " '26': 3234,\n",
       " '27': 2700,\n",
       " '33': 1027,\n",
       " '34': 1248,\n",
       " '35': 1018,\n",
       " '36': 827,\n",
       " '37': 541,\n",
       " '38': 438,\n",
       " '39': 322,\n",
       " '40': 292,\n",
       " '41': 215,\n",
       " '42': 165,\n",
       " '43': 245,\n",
       " '44': 115,\n",
       " '45': 260,\n",
       " '46': 158,\n",
       " '47': 129,\n",
       " '48': 204,\n",
       " 'Accounting': 221,\n",
       " 'Advertising': 268,\n",
       " 'Agriculture': 72,\n",
       " 'Aquarius': 2911,\n",
       " 'Architecture': 96,\n",
       " 'Aries': 3802,\n",
       " 'Arts': 1899,\n",
       " 'Automotive': 66,\n",
       " 'Banking': 232,\n",
       " 'Biotech': 127,\n",
       " 'BusinessServices': 257,\n",
       " 'Cancer': 3806,\n",
       " 'Capricorn': 2879,\n",
       " 'Chemicals': 227,\n",
       " 'Communications-Media': 1181,\n",
       " 'Construction': 60,\n",
       " 'Consulting': 340,\n",
       " 'Education': 1741,\n",
       " 'Engineering': 681,\n",
       " 'Environment': 32,\n",
       " 'Fashion': 276,\n",
       " 'Gemini': 3039,\n",
       " 'Government': 395,\n",
       " 'HumanResources': 178,\n",
       " 'Internet': 939,\n",
       " 'InvestmentBanking': 72,\n",
       " 'Law': 526,\n",
       " 'LawEnforcement-Security': 108,\n",
       " 'Leo': 3149,\n",
       " 'Libra': 3638,\n",
       " 'Manufacturing': 126,\n",
       " 'Maritime': 17,\n",
       " 'Marketing': 275,\n",
       " 'Military': 181,\n",
       " 'Museums-Libraries': 177,\n",
       " 'Non-Profit': 858,\n",
       " 'Pisces': 3149,\n",
       " 'Publishing': 454,\n",
       " 'RealEstate': 165,\n",
       " 'Religion': 304,\n",
       " 'Sagittarius': 2925,\n",
       " 'Science': 420,\n",
       " 'Scorpio': 3347,\n",
       " 'Sports-Recreation': 179,\n",
       " 'Student': 9029,\n",
       " 'Taurus': 3661,\n",
       " 'Technology': 2465,\n",
       " 'Telecommunications': 226,\n",
       " 'Tourism': 108,\n",
       " 'Transportation': 135,\n",
       " 'Virgo': 3536,\n",
       " 'female': 19663,\n",
       " 'indUnk': 14729,\n",
       " 'male': 20179}"
      ]
     },
     "execution_count": 51,
     "metadata": {},
     "output_type": "execute_result"
    }
   ],
   "source": [
    "label_counts=dict()\n",
    "\n",
    "for labels in new_data.labels.values:\n",
    "    for label in labels:\n",
    "        if label in label_counts:\n",
    "            label_counts[str(label)]+=1\n",
    "        else:\n",
    "            label_counts[str(label)]=1\n",
    "        \n",
    "label_counts"
   ]
  },
  {
   "cell_type": "markdown",
   "metadata": {
    "id": "eNVwzalPjGu3"
   },
   "source": [
    "## Transform the labels"
   ]
  },
  {
   "cell_type": "code",
   "execution_count": null,
   "metadata": {
    "id": "93DUwRc2jGu3"
   },
   "outputs": [],
   "source": [
    "from sklearn.preprocessing import MultiLabelBinarizer\n",
    "\n",
    "# Transform between iterable of iterables and a multilabel format\n",
    "binarizer=MultiLabelBinarizer(classes=sorted(label_counts.keys()))\n",
    "\n",
    "\n",
    "y_train = binarizer.fit_transform(y_train)\n",
    "y_test = binarizer.transform(y_test)"
   ]
  },
  {
   "cell_type": "code",
   "execution_count": null,
   "metadata": {
    "colab": {
     "base_uri": "https://localhost:8080/"
    },
    "id": "QQynbG8ujGu3",
    "outputId": "1929cda5-b5af-4056-9b35-d3bfa16cabc8"
   },
   "outputs": [
    {
     "data": {
      "text/plain": [
       "array([[0, 0, 0, ..., 1, 1, 0],\n",
       "       [0, 0, 0, ..., 0, 1, 1],\n",
       "       [0, 0, 0, ..., 1, 1, 0],\n",
       "       ...,\n",
       "       [0, 0, 0, ..., 0, 0, 1],\n",
       "       [0, 0, 1, ..., 1, 1, 0],\n",
       "       [0, 0, 0, ..., 0, 0, 1]])"
      ]
     },
     "execution_count": 53,
     "metadata": {},
     "output_type": "execute_result"
    }
   ],
   "source": [
    "y_train"
   ]
  },
  {
   "cell_type": "markdown",
   "metadata": {
    "id": "v5rrX9yNjGu3"
   },
   "source": [
    "### Before diving into preparing models , let's settle with Metrics to measure prediction score"
   ]
  },
  {
   "cell_type": "code",
   "execution_count": null,
   "metadata": {
    "id": "_eI1sbrujGu3"
   },
   "outputs": [],
   "source": [
    "from sklearn.metrics import accuracy_score\n",
    "from sklearn.metrics import f1_score\n",
    "from sklearn.metrics import average_precision_score\n",
    "from sklearn.metrics import recall_score\n",
    "\n",
    "def display_metrics_micro(Ytest, Ypred):\n",
    "    print('Accuracy score: ', accuracy_score(Ytest, Ypred))\n",
    "    print('F1 score: Micro', f1_score(Ytest, Ypred, average='micro'))\n",
    "    print('Average precision score: Micro', average_precision_score(Ytest, Ypred, average='micro'))\n",
    "    print('Average recall score: Micro', recall_score(Ytest, Ypred, average='micro'))\n",
    "    \n",
    "    \n",
    "def display_metrics_macro(Ytest, Ypred):\n",
    "    print('Accuracy score: ', accuracy_score(Ytest, Ypred))\n",
    "    print('F1 score: Macro', f1_score(Ytest, Ypred, average='macro'))\n",
    "    print('Average recall score: MAcro', recall_score(Ytest, Ypred, average='macro'))\n",
    "    \n",
    "def display_metrics_weighted(Ytest, Ypred):\n",
    "    print('Accuracy score: ', accuracy_score(Ytest, Ypred))\n",
    "    print('F1 score: weighted', f1_score(Ytest, Ypred, average='weighted'))\n",
    "    print('Average precision score: weighted', average_precision_score(Ytest, Ypred, average='weighted'))\n",
    "    print('Average recall score: weighted', recall_score(Ytest, Ypred, average='weighted'))"
   ]
  },
  {
   "cell_type": "markdown",
   "metadata": {
    "id": "wZp3kJinjGu3"
   },
   "source": [
    "## OneVsRest & LogisticRegression Classiifier"
   ]
  },
  {
   "cell_type": "code",
   "execution_count": null,
   "metadata": {
    "colab": {
     "base_uri": "https://localhost:8080/"
    },
    "id": "0hAvBJn4jGu4",
    "outputId": "881f0af2-d240-468e-ed6e-b88b5e3b557f"
   },
   "outputs": [
    {
     "data": {
      "text/plain": [
       "OneVsRestClassifier(estimator=LogisticRegression(class_weight='balanced',\n",
       "                                                 penalty='l1', random_state=42,\n",
       "                                                 solver='liblinear'))"
      ]
     },
     "execution_count": 55,
     "metadata": {},
     "output_type": "execute_result"
    }
   ],
   "source": [
    "from sklearn.linear_model import LogisticRegression\n",
    "from sklearn.metrics import accuracy_score\n",
    "from sklearn.multiclass import OneVsRestClassifier\n",
    "\n",
    "model=LogisticRegression(C=1.0, penalty='l1', dual=False, solver='liblinear', random_state=42, class_weight= 'balanced', max_iter=100) \n",
    "model=OneVsRestClassifier(model)\n",
    "model.fit(xtrain_ctv,y_train)"
   ]
  },
  {
   "cell_type": "code",
   "execution_count": null,
   "metadata": {
    "id": "R6SL92QsXbvJ"
   },
   "outputs": [],
   "source": [
    "Y_log_predicted_oneVsRest=model.predict(xtest_ctv)"
   ]
  },
  {
   "cell_type": "markdown",
   "metadata": {
    "id": "L_kZySPHjGu4"
   },
   "source": [
    "## Display Metrics"
   ]
  },
  {
   "cell_type": "code",
   "execution_count": null,
   "metadata": {
    "colab": {
     "base_uri": "https://localhost:8080/"
    },
    "id": "XMp7JZ9LjGu4",
    "outputId": "903b75fc-7f1d-4e26-d311-545b9602f0a4"
   },
   "outputs": [
    {
     "name": "stdout",
     "output_type": "stream",
     "text": [
      "Accuracy score:  0.006776257999749027\n",
      "F1 score: Micro 0.31568482017453875\n",
      "Average precision score: Micro 0.1339716650305157\n",
      "Average recall score: Micro 0.31377839126615636\n"
     ]
    }
   ],
   "source": [
    "display_metrics_micro(y_test,Y_log_predicted_oneVsRest)"
   ]
  },
  {
   "cell_type": "code",
   "execution_count": null,
   "metadata": {
    "colab": {
     "base_uri": "https://localhost:8080/"
    },
    "id": "KjozjkzFjGu4",
    "outputId": "c15a4bf8-abe2-43a7-9c68-7d85b9ecb8cb"
   },
   "outputs": [
    {
     "name": "stdout",
     "output_type": "stream",
     "text": [
      "Accuracy score:  0.006776257999749027\n",
      "F1 score: Macro 0.13654746006207458\n",
      "Average recall score: MAcro 0.133816870564314\n"
     ]
    }
   ],
   "source": [
    "display_metrics_macro(y_test,Y_log_predicted_oneVsRest)"
   ]
  },
  {
   "cell_type": "code",
   "execution_count": null,
   "metadata": {
    "colab": {
     "base_uri": "https://localhost:8080/"
    },
    "id": "QIdNPosojGu4",
    "outputId": "8586e4bd-e916-4a23-dda3-e254f06a5581"
   },
   "outputs": [
    {
     "name": "stdout",
     "output_type": "stream",
     "text": [
      "Accuracy score:  0.006776257999749027\n",
      "F1 score: weighted 0.31392351985690436\n",
      "Average precision score: weighted 0.2509637202892062\n",
      "Average recall score: weighted 0.31377839126615636\n"
     ]
    }
   ],
   "source": [
    "display_metrics_weighted(y_test,Y_log_predicted_oneVsRest)"
   ]
  },
  {
   "cell_type": "markdown",
   "metadata": {
    "id": "JhOA4DyqjGu4"
   },
   "source": [
    "### Let's check for any 10 inputs and there predicted labels"
   ]
  },
  {
   "cell_type": "code",
   "execution_count": null,
   "metadata": {
    "id": "0lKDHfgBjGu4"
   },
   "outputs": [],
   "source": [
    "import random \n",
    "\n",
    "def print_predicted(y_predicted, y_test = y_test , n = 10):\n",
    "    j = []\n",
    "    for i in range(n):\n",
    "        j.append(random.randint(0, len(y_test)))\n",
    "    print(j)\n",
    "                 \n",
    "    for k in j:\n",
    "        print(binarizer.inverse_transform(y_predicted)[k])\n",
    "        print(binarizer.inverse_transform(y_test)[k])\n",
    "        print(\"------------------------------------------------------------------\")"
   ]
  },
  {
   "cell_type": "markdown",
   "metadata": {
    "id": "O1_9jJv1jGu5"
   },
   "source": [
    "## Print true label and predicted label for any 10 examples"
   ]
  },
  {
   "cell_type": "code",
   "execution_count": null,
   "metadata": {
    "colab": {
     "base_uri": "https://localhost:8080/"
    },
    "id": "sZEwBaqhjGu5",
    "outputId": "feb6a573-d818-4c04-90cc-02940cbf5fb1"
   },
   "outputs": [
    {
     "name": "stdout",
     "output_type": "stream",
     "text": [
      "[3124, 3983, 6244, 3813, 5137, 5176, 205, 3249, 2755, 7796]\n",
      "('17', 'Sagittarius', 'female', 'indUnk')\n",
      "('17', 'Sagittarius', 'indUnk', 'male')\n",
      "------------------------------------------------------------------\n",
      "('14', '15', '23', 'Arts', 'Capricorn', 'Libra', 'Student', 'Taurus', 'indUnk', 'male')\n",
      "('23', 'Aries', 'Religion', 'female')\n",
      "------------------------------------------------------------------\n",
      "('17', '36', 'Aries', 'Fashion', 'Sagittarius', 'Sports-Recreation', 'Student', 'male')\n",
      "('36', 'Aries', 'Fashion', 'male')\n",
      "------------------------------------------------------------------\n",
      "('female', 'indUnk')\n",
      "('27', 'Cancer', 'indUnk', 'male')\n",
      "------------------------------------------------------------------\n",
      "('male',)\n",
      "('35', 'Aquarius', 'Government', 'male')\n",
      "------------------------------------------------------------------\n",
      "('Aquarius', 'male')\n",
      "('43', 'Libra', 'female', 'indUnk')\n",
      "------------------------------------------------------------------\n",
      "('35', 'Cancer', 'female')\n",
      "('35', 'Pisces', 'indUnk', 'male')\n",
      "------------------------------------------------------------------\n",
      "('25', 'Libra', 'Sagittarius', 'female')\n",
      "('27', 'Gemini', 'Internet', 'female')\n",
      "------------------------------------------------------------------\n",
      "('Leo', 'Student', 'female')\n",
      "('16', 'Capricorn', 'Consulting', 'male')\n",
      "------------------------------------------------------------------\n",
      "('Libra', 'Virgo', 'indUnk', 'male')\n",
      "('33', 'Military', 'Virgo', 'female')\n",
      "------------------------------------------------------------------\n"
     ]
    }
   ],
   "source": [
    "print_predicted(y_predicted=Y_log_predicted_oneVsRest,y_test=y_test, n= 10)"
   ]
  },
  {
   "cell_type": "markdown",
   "metadata": {
    "id": "0wJZVH88ULxV"
   },
   "source": [
    "Conclusions:\n",
    "\n",
    "1.Trained model on OnevsRest Classifer using Logistics Regression classifer. Tried to train another model, but runtime was too high therefore omitted out of final copy\n",
    "\n",
    "2.OnevsRest with Logistic Regression gave better results in terms of test accuracy compared with LinearSVC while experimentation\n",
    "\n",
    "3.F1-Score usually lies between Precison and Recall and hence we can compare based on either F1 score or based on Precision and Recall depending on the business need. If it is not clear, then go with F1 score as the parameter\n",
    "\n",
    "In our case since we are dealing with an imbalanced dataset, micro - average score will be appropriate as it takes into account each instances equally rather than its counter part macro - avgerage score which considers all classes equally.\n",
    "\n",
    "In OnevsRest with Logistic Regression micro-avg recall is higher than OnevsRest with LinerSVC tried with experimentaion.\n",
    "\n",
    "In OnevsRest with SVC micro-avg precision is higher than OnevsRest with Logistic Regression.\n",
    "\n",
    "If we choose F1 score then Log Regression micro-avg is higher than LinearSVC\n",
    "\n",
    "How to improve the model scores\n",
    "\n",
    "a. The dataset is a imbalanced multi-label classification problem, if we can have a balanced dataset, the accuracy will improve. But since data cannot be augmented with just smote and subsampling reduces the dataset to a much smaller set, therefore nothing could be done on this dataset as of now.\n",
    "\n",
    "b. Using Statistical NLP approach limits from learning the context from the textual data which can help in better classification.\n",
    "\n",
    "c. Due to lack of compute power we have used a small stratified random sample of the total data. If we had enough compute power running the models with the complete dataset may improve accuracy by a great deal."
   ]
  },
  {
   "cell_type": "code",
   "execution_count": null,
   "metadata": {
    "id": "qxg_vAzzWk6b"
   },
   "outputs": [],
   "source": []
  }
 ],
 "metadata": {
  "accelerator": "GPU",
  "colab": {
   "collapsed_sections": [],
   "machine_shape": "hm",
   "name": "KunalChhajer_Assignment_StatisticalNLP_Part1.ipynb",
   "provenance": []
  },
  "kernelspec": {
   "display_name": "Python 3 (ipykernel)",
   "language": "python",
   "name": "python3"
  },
  "language_info": {
   "codemirror_mode": {
    "name": "ipython",
    "version": 3
   },
   "file_extension": ".py",
   "mimetype": "text/x-python",
   "name": "python",
   "nbconvert_exporter": "python",
   "pygments_lexer": "ipython3",
   "version": "3.7.3"
  }
 },
 "nbformat": 4,
 "nbformat_minor": 1
}
